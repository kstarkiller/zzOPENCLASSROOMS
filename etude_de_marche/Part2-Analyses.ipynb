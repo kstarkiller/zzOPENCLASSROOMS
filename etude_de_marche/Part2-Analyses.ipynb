{
 "cells": [
  {
   "cell_type": "code",
   "execution_count": 69,
   "metadata": {
    "id": "yWTKideEghGo"
   },
   "outputs": [],
   "source": [
    "import numpy as np\n",
    "import pandas as pd\n",
    "import pickle \n",
    "import plotly.express as px\n",
    "\n",
    "from matplotlib import pyplot as plt\n",
    "from sklearn import decomposition\n",
    "from sklearn import preprocessing\n",
    "from scipy.cluster.hierarchy import linkage, fcluster, dendrogram\n",
    "\n",
    "import warnings\n",
    "warnings.filterwarnings('ignore')"
   ]
  },
  {
   "cell_type": "markdown",
   "metadata": {
    "id": "tjJ1KlkWghGt"
   },
   "source": [
    "# 1. Import et traitement du main_df principal"
   ]
  },
  {
   "cell_type": "code",
   "execution_count": 70,
   "metadata": {
    "colab": {
     "base_uri": "https://localhost:8080/",
     "height": 394
    },
    "executionInfo": {
     "elapsed": 45,
     "status": "ok",
     "timestamp": 1644511342489,
     "user": {
      "displayName": "Kevin Simon",
      "photoUrl": "https://lh3.googleusercontent.com/a-/AOh14Gg3FCABvilRbklDg4_wqSKqwlKXtHBhg3_Xddf997I=s64",
      "userId": "05485721485209418304"
     },
     "user_tz": -60
    },
    "id": "EE-mCfqWghGx",
    "outputId": "eb771503-50ee-49ee-d887-24e9aa8f9aad"
   },
   "outputs": [
    {
     "data": {
      "text/html": [
       "<div>\n",
       "<style scoped>\n",
       "    .dataframe tbody tr th:only-of-type {\n",
       "        vertical-align: middle;\n",
       "    }\n",
       "\n",
       "    .dataframe tbody tr th {\n",
       "        vertical-align: top;\n",
       "    }\n",
       "\n",
       "    .dataframe thead th {\n",
       "        text-align: right;\n",
       "    }\n",
       "</style>\n",
       "<table border=\"1\" class=\"dataframe\">\n",
       "  <thead>\n",
       "    <tr style=\"text-align: right;\">\n",
       "      <th></th>\n",
       "      <th>pop_evol (%)</th>\n",
       "      <th>PIB 2013</th>\n",
       "      <th>kcal_total_capita_day</th>\n",
       "      <th>proteins_total_capita_day</th>\n",
       "      <th>proteins_animal_ratio</th>\n",
       "    </tr>\n",
       "    <tr>\n",
       "      <th>Country</th>\n",
       "      <th></th>\n",
       "      <th></th>\n",
       "      <th></th>\n",
       "      <th></th>\n",
       "      <th></th>\n",
       "    </tr>\n",
       "  </thead>\n",
       "  <tbody>\n",
       "    <tr>\n",
       "      <th>Arménie</th>\n",
       "      <td>-1.943347</td>\n",
       "      <td>3838.180041</td>\n",
       "      <td>2924.0</td>\n",
       "      <td>90.06</td>\n",
       "      <td>0.480235</td>\n",
       "    </tr>\n",
       "    <tr>\n",
       "      <th>Afghanistan</th>\n",
       "      <td>32.168195</td>\n",
       "      <td>608.058642</td>\n",
       "      <td>2087.0</td>\n",
       "      <td>58.26</td>\n",
       "      <td>0.209749</td>\n",
       "    </tr>\n",
       "    <tr>\n",
       "      <th>Albanie</th>\n",
       "      <td>-2.037666</td>\n",
       "      <td>4399.863881</td>\n",
       "      <td>3188.0</td>\n",
       "      <td>111.37</td>\n",
       "      <td>0.533537</td>\n",
       "    </tr>\n",
       "    <tr>\n",
       "      <th>Algérie</th>\n",
       "      <td>18.801321</td>\n",
       "      <td>5499.587619</td>\n",
       "      <td>3293.0</td>\n",
       "      <td>91.92</td>\n",
       "      <td>0.271867</td>\n",
       "    </tr>\n",
       "    <tr>\n",
       "      <th>Angola</th>\n",
       "      <td>39.238700</td>\n",
       "      <td>5254.883253</td>\n",
       "      <td>2474.0</td>\n",
       "      <td>57.27</td>\n",
       "      <td>0.321285</td>\n",
       "    </tr>\n",
       "    <tr>\n",
       "      <th>Antigua-et-Barbuda</th>\n",
       "      <td>11.111111</td>\n",
       "      <td>12909.744178</td>\n",
       "      <td>2416.0</td>\n",
       "      <td>83.49</td>\n",
       "      <td>0.680680</td>\n",
       "    </tr>\n",
       "    <tr>\n",
       "      <th>Argentine</th>\n",
       "      <td>9.154596</td>\n",
       "      <td>14534.922536</td>\n",
       "      <td>3226.0</td>\n",
       "      <td>102.60</td>\n",
       "      <td>0.652437</td>\n",
       "    </tr>\n",
       "    <tr>\n",
       "      <th>Australie</th>\n",
       "      <td>16.989926</td>\n",
       "      <td>66360.873829</td>\n",
       "      <td>3278.0</td>\n",
       "      <td>106.26</td>\n",
       "      <td>0.674572</td>\n",
       "    </tr>\n",
       "    <tr>\n",
       "      <th>Autriche</th>\n",
       "      <td>4.335544</td>\n",
       "      <td>50264.050148</td>\n",
       "      <td>3770.0</td>\n",
       "      <td>106.20</td>\n",
       "      <td>0.591902</td>\n",
       "    </tr>\n",
       "    <tr>\n",
       "      <th>Bahamas</th>\n",
       "      <td>19.303797</td>\n",
       "      <td>28783.475729</td>\n",
       "      <td>2670.0</td>\n",
       "      <td>86.16</td>\n",
       "      <td>0.654944</td>\n",
       "    </tr>\n",
       "  </tbody>\n",
       "</table>\n",
       "</div>"
      ],
      "text/plain": [
       "                    pop_evol (%)      PIB 2013  kcal_total_capita_day  \\\n",
       "Country                                                                 \n",
       "Arménie                -1.943347   3838.180041                 2924.0   \n",
       "Afghanistan            32.168195    608.058642                 2087.0   \n",
       "Albanie                -2.037666   4399.863881                 3188.0   \n",
       "Algérie                18.801321   5499.587619                 3293.0   \n",
       "Angola                 39.238700   5254.883253                 2474.0   \n",
       "Antigua-et-Barbuda     11.111111  12909.744178                 2416.0   \n",
       "Argentine               9.154596  14534.922536                 3226.0   \n",
       "Australie              16.989926  66360.873829                 3278.0   \n",
       "Autriche                4.335544  50264.050148                 3770.0   \n",
       "Bahamas                19.303797  28783.475729                 2670.0   \n",
       "\n",
       "                    proteins_total_capita_day  proteins_animal_ratio  \n",
       "Country                                                               \n",
       "Arménie                                 90.06               0.480235  \n",
       "Afghanistan                             58.26               0.209749  \n",
       "Albanie                                111.37               0.533537  \n",
       "Algérie                                 91.92               0.271867  \n",
       "Angola                                  57.27               0.321285  \n",
       "Antigua-et-Barbuda                      83.49               0.680680  \n",
       "Argentine                              102.60               0.652437  \n",
       "Australie                              106.26               0.674572  \n",
       "Autriche                               106.20               0.591902  \n",
       "Bahamas                                 86.16               0.654944  "
      ]
     },
     "execution_count": 70,
     "metadata": {},
     "output_type": "execute_result"
    }
   ],
   "source": [
    "with open('Data/part1.pkl', 'rb') as f:\n",
    "    my_unpickler = pickle.Unpickler(f)\n",
    "    main_df = my_unpickler.load()\n",
    "\n",
    "main_df = (\n",
    "            main_df\n",
    "                .copy()\n",
    "    \n",
    "                # Set country column as index\n",
    "                .set_index('Country')\n",
    "    \n",
    "                # Mean imputation\n",
    "                .fillna(main_df.mean())\n",
    ")\n",
    "    \n",
    "main_df.head(10)"
   ]
  },
  {
   "cell_type": "markdown",
   "metadata": {
    "id": "rHuhO_NzghGz"
   },
   "source": [
    "# 2. Dendrogramme"
   ]
  },
  {
   "cell_type": "code",
   "execution_count": 71,
   "metadata": {
    "colab": {
     "base_uri": "https://localhost:8080/",
     "height": 1000
    },
    "executionInfo": {
     "elapsed": 5153,
     "status": "ok",
     "timestamp": 1644511347598,
     "user": {
      "displayName": "Kevin Simon",
      "photoUrl": "https://lh3.googleusercontent.com/a-/AOh14Gg3FCABvilRbklDg4_wqSKqwlKXtHBhg3_Xddf997I=s64",
      "userId": "05485721485209418304"
     },
     "user_tz": -60
    },
    "id": "BrcZizlgghG0",
    "outputId": "8c1b7e2e-56b6-41a5-e7bb-f1337bb607a0"
   },
   "outputs": [
    {
     "data": {
      "image/png": "[encoded data removed]",
      "text/plain": [
       "<Figure size 1080x1800 with 1 Axes>"
      ]
     },
     "metadata": {
      "needs_background": "light"
     },
     "output_type": "display_data"
    }
   ],
   "source": [
    "# Save data\n",
    "df_data = main_df.copy()\n",
    "\n",
    "# Scale data\n",
    "df_data.X = preprocessing.StandardScaler().fit_transform(df_data.values)\n",
    "\n",
    "# Compute the hierarchical clustering with the ward method.\n",
    "df_data.Z = linkage(df_data.X, 'ward')\n",
    "\n",
    "# Plot the dendrogram\n",
    "fig = plt.figure(figsize=(15,25))\n",
    "ax = plt.subplot()\n",
    "dendrogram(\n",
    "    df_data.Z,\n",
    "    labels = df_data.index,\n",
    "    orientation = \"left\",\n",
    ")\n",
    "ax.set_title(\"Hierarchical Clustering Dendrogram\", fontsize=15, y=1, color='#555555', fontweight='bold')\n",
    "ax.set_xlabel(\"Distance\")\n",
    "\n",
    "fig.savefig('Livrables/dendrogram.png')\n",
    "            \n",
    "plt.show()"
   ]
  },
  {
   "cell_type": "markdown",
   "metadata": {
    "id": "q55ZXOsqghG1"
   },
   "source": [
    "# 3. Clustering"
   ]
  },
  {
   "cell_type": "code",
   "execution_count": 72,
   "metadata": {
    "colab": {
     "base_uri": "https://localhost:8080/",
     "height": 735
    },
    "executionInfo": {
     "elapsed": 96,
     "status": "ok",
     "timestamp": 1644511347599,
     "user": {
      "displayName": "Kevin Simon",
      "photoUrl": "https://lh3.googleusercontent.com/a-/AOh14Gg3FCABvilRbklDg4_wqSKqwlKXtHBhg3_Xddf997I=s64",
      "userId": "05485721485209418304"
     },
     "user_tz": -60
    },
    "id": "6d0LLe8TghG1",
    "outputId": "dfc8801d-3e18-4f1a-fd03-3397e81919f6"
   },
   "outputs": [
    {
     "name": "stdout",
     "output_type": "stream",
     "text": [
      "Groupe 1:\n",
      "Afghanistan, Angola, Bangladesh, Îles Salomon, Cameroun, République centrafricaine, Sri Lanka, Tchad, Congo, Bénin, Djibouti, Gambie, Ghana, Guatemala, Guinée, Haïti, Honduras, Inde, Indonésie, Iraq, Côte d'Ivoire, Kenya, Cambodge, République populaire démocratique de Corée, République démocratique populaire lao, Lesotho, Libéria, Madagascar, Malawi, Mozambique, Namibie, Népal, Nicaragua, Niger, Nigéria, Guinée-Bissau, Timor-Leste, Zimbabwe, Rwanda, Sao Tomé-et-Principe, Sénégal, Sierra Leone, Tadjikistan, Eswatini, République-Unie de Tanzanie, Togo, Ouganda, Burkina Faso, Éthiopie, Yémen, Zambie\n",
      " \n",
      "Groupe 2:\n",
      "Émirats arabes unis\n",
      " \n",
      "Groupe 3:\n",
      "Australie, Autriche, Bermudes, Canada, Danemark, Finlande, France, Allemagne, Islande, Irlande, Israël, Italie, Pays-Bas, Norvège, Suède, Suisse, Royaume-Uni, États-Unis d'Amérique, Belgique, Luxembourg\n",
      " \n",
      "Groupe 4:\n",
      "Albanie, Argentine, Bahamas, Brésil, Brunéi Darussalam, Chypre, Bélarus, Estonie, Polynésie française, Grèce, Kazakhstan, Japon, République de Corée, Lettonie, Lituanie, Maldives, Malte, Nouvelle-Calédonie, Nouvelle-Zélande, Tchéquie (la), Pologne, Portugal, Roumanie, Fédération de Russie, Slovénie, Espagne, Monténégro\n",
      " \n",
      "Groupe 5:\n",
      "Arménie, Algérie, Antigua-et-Barbuda, Barbade, Bolivie (État plurinational de), Botswana, Belize, Bulgarie, Myanmar, Cabo Verde, Chili, Colombie, Costa Rica, Cuba, Azerbaïdjan, Dominique, République dominicaine, Équateur, Égypte, El Salvador, Fidji, Géorgie, Gabon, Bosnie-Herzégovine, Kiribati, Grenade, Guyana, Hongrie, Croatie, Iran (République islamique d'), Jamaïque, Jordanie, Kirghizistan, Koweït, Liban, Malaisie, Mali, Mauritanie, Maurice, Mexique, Mongolie, Maroc, République de Moldova, Antilles néerlandaises (ex), l'ex-République yougoslave de Macédoine, Vanuatu, Pakistan, Panama, Paraguay, Pérou, Philippines, Serbie-et-Monténégro, Saint-Kitts-et-Nevis, Sainte-Lucie, Saint-Vincent-et-les Grenadines, Arabie saoudite, Slovaquie, Afrique du Sud, Soudan (ex), Suriname, Turkménistan, Chine, Taiwan Province de, Thaïlande, Trinité-et-Tobago, Oman, Tunisie, Turquie, Ukraine, Uruguay, Ouzbékistan, Venezuela (République bolivarienne du), Viet Nam, Samoa, Serbie, Soudan, Chine\n",
      " \n"
     ]
    },
    {
     "data": {
      "text/html": [
       "<div>\n",
       "<style scoped>\n",
       "    .dataframe tbody tr th:only-of-type {\n",
       "        vertical-align: middle;\n",
       "    }\n",
       "\n",
       "    .dataframe tbody tr th {\n",
       "        vertical-align: top;\n",
       "    }\n",
       "\n",
       "    .dataframe thead th {\n",
       "        text-align: right;\n",
       "    }\n",
       "</style>\n",
       "<table border=\"1\" class=\"dataframe\">\n",
       "  <thead>\n",
       "    <tr style=\"text-align: right;\">\n",
       "      <th></th>\n",
       "      <th>pop_evol (%)</th>\n",
       "      <th>PIB 2013</th>\n",
       "      <th>kcal_total_capita_day</th>\n",
       "      <th>proteins_total_capita_day</th>\n",
       "      <th>proteins_animal_ratio</th>\n",
       "      <th>clusters</th>\n",
       "    </tr>\n",
       "    <tr>\n",
       "      <th>Country</th>\n",
       "      <th></th>\n",
       "      <th></th>\n",
       "      <th></th>\n",
       "      <th></th>\n",
       "      <th></th>\n",
       "      <th></th>\n",
       "    </tr>\n",
       "  </thead>\n",
       "  <tbody>\n",
       "    <tr>\n",
       "      <th>Arménie</th>\n",
       "      <td>-1.943347</td>\n",
       "      <td>3838.180041</td>\n",
       "      <td>2924.0</td>\n",
       "      <td>90.06</td>\n",
       "      <td>0.480235</td>\n",
       "      <td>5</td>\n",
       "    </tr>\n",
       "    <tr>\n",
       "      <th>Afghanistan</th>\n",
       "      <td>32.168195</td>\n",
       "      <td>608.058642</td>\n",
       "      <td>2087.0</td>\n",
       "      <td>58.26</td>\n",
       "      <td>0.209749</td>\n",
       "      <td>1</td>\n",
       "    </tr>\n",
       "    <tr>\n",
       "      <th>Albanie</th>\n",
       "      <td>-2.037666</td>\n",
       "      <td>4399.863881</td>\n",
       "      <td>3188.0</td>\n",
       "      <td>111.37</td>\n",
       "      <td>0.533537</td>\n",
       "      <td>4</td>\n",
       "    </tr>\n",
       "    <tr>\n",
       "      <th>Algérie</th>\n",
       "      <td>18.801321</td>\n",
       "      <td>5499.587619</td>\n",
       "      <td>3293.0</td>\n",
       "      <td>91.92</td>\n",
       "      <td>0.271867</td>\n",
       "      <td>5</td>\n",
       "    </tr>\n",
       "    <tr>\n",
       "      <th>Angola</th>\n",
       "      <td>39.238700</td>\n",
       "      <td>5254.883253</td>\n",
       "      <td>2474.0</td>\n",
       "      <td>57.27</td>\n",
       "      <td>0.321285</td>\n",
       "      <td>1</td>\n",
       "    </tr>\n",
       "    <tr>\n",
       "      <th>...</th>\n",
       "      <td>...</td>\n",
       "      <td>...</td>\n",
       "      <td>...</td>\n",
       "      <td>...</td>\n",
       "      <td>...</td>\n",
       "      <td>...</td>\n",
       "    </tr>\n",
       "    <tr>\n",
       "      <th>Luxembourg</th>\n",
       "      <td>18.568233</td>\n",
       "      <td>113792.672170</td>\n",
       "      <td>3540.0</td>\n",
       "      <td>113.64</td>\n",
       "      <td>0.634636</td>\n",
       "      <td>3</td>\n",
       "    </tr>\n",
       "    <tr>\n",
       "      <th>Serbie</th>\n",
       "      <td>15.994234</td>\n",
       "      <td>6752.796587</td>\n",
       "      <td>2725.0</td>\n",
       "      <td>82.21</td>\n",
       "      <td>0.485707</td>\n",
       "      <td>5</td>\n",
       "    </tr>\n",
       "    <tr>\n",
       "      <th>Monténégro</th>\n",
       "      <td>15.994234</td>\n",
       "      <td>7127.905005</td>\n",
       "      <td>3490.0</td>\n",
       "      <td>111.90</td>\n",
       "      <td>0.563986</td>\n",
       "      <td>4</td>\n",
       "    </tr>\n",
       "    <tr>\n",
       "      <th>Soudan</th>\n",
       "      <td>15.994234</td>\n",
       "      <td>1724.553464</td>\n",
       "      <td>2335.0</td>\n",
       "      <td>70.69</td>\n",
       "      <td>0.413071</td>\n",
       "      <td>5</td>\n",
       "    </tr>\n",
       "    <tr>\n",
       "      <th>Chine</th>\n",
       "      <td>6.308016</td>\n",
       "      <td>7072.075325</td>\n",
       "      <td>3112.0</td>\n",
       "      <td>98.05</td>\n",
       "      <td>0.404284</td>\n",
       "      <td>5</td>\n",
       "    </tr>\n",
       "  </tbody>\n",
       "</table>\n",
       "<p>175 rows × 6 columns</p>\n",
       "</div>"
      ],
      "text/plain": [
       "             pop_evol (%)       PIB 2013  kcal_total_capita_day  \\\n",
       "Country                                                           \n",
       "Arménie         -1.943347    3838.180041                 2924.0   \n",
       "Afghanistan     32.168195     608.058642                 2087.0   \n",
       "Albanie         -2.037666    4399.863881                 3188.0   \n",
       "Algérie         18.801321    5499.587619                 3293.0   \n",
       "Angola          39.238700    5254.883253                 2474.0   \n",
       "...                   ...            ...                    ...   \n",
       "Luxembourg      18.568233  113792.672170                 3540.0   \n",
       "Serbie          15.994234    6752.796587                 2725.0   \n",
       "Monténégro      15.994234    7127.905005                 3490.0   \n",
       "Soudan          15.994234    1724.553464                 2335.0   \n",
       "Chine            6.308016    7072.075325                 3112.0   \n",
       "\n",
       "             proteins_total_capita_day  proteins_animal_ratio  clusters  \n",
       "Country                                                                  \n",
       "Arménie                          90.06               0.480235         5  \n",
       "Afghanistan                      58.26               0.209749         1  \n",
       "Albanie                         111.37               0.533537         4  \n",
       "Algérie                          91.92               0.271867         5  \n",
       "Angola                           57.27               0.321285         1  \n",
       "...                                ...                    ...       ...  \n",
       "Luxembourg                      113.64               0.634636         3  \n",
       "Serbie                           82.21               0.485707         5  \n",
       "Monténégro                      111.90               0.563986         4  \n",
       "Soudan                           70.69               0.413071         5  \n",
       "Chine                            98.05               0.404284         5  \n",
       "\n",
       "[175 rows x 6 columns]"
      ]
     },
     "execution_count": 72,
     "metadata": {},
     "output_type": "execute_result"
    }
   ],
   "source": [
    "# Save the clusters\n",
    "df_data['clusters'] = fcluster(df_data.Z, 5, criterion='maxclust')\n",
    "\n",
    "# Compute and save the centroïds\n",
    "centroids = np.ndarray(shape=(0, df_data.X.shape[1]))\n",
    "centroids_names = np.array([]).astype(int)\n",
    "\n",
    "for cluster in np.unique(df_data.clusters):\n",
    "    new_row = df_data.X[np.where(df_data.clusters == cluster)].mean(axis=0)\n",
    "\n",
    "    centroids = np.vstack((centroids, new_row))\n",
    "    centroids_names = np.append(centroids_names, cluster)\n",
    "\n",
    "df_data.centroids = centroids\n",
    "df_data.centroids_names = centroids_names\n",
    "\n",
    "# Print the clusters\n",
    "for i in range(1,6):\n",
    "    print(f\"Groupe {i}:\")\n",
    "    print(\", \".join(df_data.index[np.where(df_data.clusters == i)]))\n",
    "    print(\" \")\n",
    "\n",
    "df_data"
   ]
  },
  {
   "cell_type": "markdown",
   "metadata": {
    "id": "j1VcCFodghG3"
   },
   "source": [
    "# 4. Analyses en Composantes Principales"
   ]
  },
  {
   "cell_type": "code",
   "execution_count": 73,
   "metadata": {
    "id": "ulPni7RNghG3"
   },
   "outputs": [],
   "source": [
    "# Assign the values\n",
    "df_data.features = main_df.columns\n",
    "\n",
    "# Compute PCA\n",
    "df_data.pca = decomposition.PCA(4)\n",
    "df_data.pca.fit(df_data.X)\n",
    "df_data.X_projected = df_data.pca.transform(df_data.X)\n",
    "df_data.pca.fit(df_data.centroids)\n",
    "centroids_projected = df_data.pca.transform(df_data.centroids)\n",
    "\n",
    "pcs = df_data.pca.components_"
   ]
  },
  {
   "cell_type": "code",
   "execution_count": 74,
   "metadata": {
    "colab": {
     "base_uri": "https://localhost:8080/",
     "height": 1000
    },
    "executionInfo": {
     "elapsed": 2223,
     "status": "ok",
     "timestamp": 1644511349732,
     "user": {
      "displayName": "Kevin Simon",
      "photoUrl": "https://lh3.googleusercontent.com/a-/AOh14Gg3FCABvilRbklDg4_wqSKqwlKXtHBhg3_Xddf997I=s64",
      "userId": "05485721485209418304"
     },
     "user_tz": -60
    },
    "id": "K-LCpfOdghG4",
    "outputId": "ca477871-6023-4e2b-dca0-4773bdf96edd"
   },
   "outputs": [
    {
     "data": {
      "image/png": "[encoded data removed]",
      "text/plain": [
       "<Figure size 1080x720 with 1 Axes>"
      ]
     },
     "metadata": {
      "needs_background": "light"
     },
     "output_type": "display_data"
    },
    {
     "data": {
      "image/png": "[encoded data removed]",
      "text/plain": [
       "<Figure size 720x720 with 1 Axes>"
      ]
     },
     "metadata": {
      "needs_background": "light"
     },
     "output_type": "display_data"
    },
    {
     "data": {
      "image/png": "[encoded data removed]",
      "text/plain": [
       "<Figure size 720x720 with 1 Axes>"
      ]
     },
     "metadata": {
      "needs_background": "light"
     },
     "output_type": "display_data"
    }
   ],
   "source": [
    "# Plot the scree plot of eigenvalues.\n",
    "scree = df_data.pca.explained_variance_ratio_*100\n",
    "ax = plt.subplots(figsize=(15,10))\n",
    "plt.bar(np.arange(len(scree))+1, scree, zorder=2)\n",
    "plt.plot(\n",
    "        np.arange(len(scree))+1,\n",
    "        scree.cumsum(),\n",
    "        c=\"#FFB246\",\n",
    "        marker='o',\n",
    "        markersize=12\n",
    "        )\n",
    "plt.xlabel(\"Dimensions\",fontsize=18)\n",
    "plt.ylabel(\"Pourcentages de variance\",fontsize=18)\n",
    "plt.title(\"Variances des dimensions\",fontsize=25)\n",
    "\n",
    "# Plot the correlation circle on F1 & F2\n",
    "ax1 = plt.subplots(figsize=(10,10))\n",
    "circle = plt.Circle((0,0), 1, facecolor='none', edgecolor='#3977af', zorder=3)\n",
    "plt.gca().add_artist(circle)\n",
    "plt.quiver(np.zeros(pcs.shape[1]), np.zeros(pcs.shape[1]),\n",
    "               pcs[0,:], pcs[1,:], \n",
    "               angles='xy', scale_units='xy', scale=1, color=\"#FFB246\")\n",
    "for i,(x, y) in enumerate(pcs[[0,1]].T):\n",
    "    if x >= -1 and x <= 1 and y >= -1 and y <= 1 :\n",
    "        plt.text(x, y, df_data.features[i], fontsize='14', ha='center', va='center', rotation=0, color=\"#3977af\", alpha=0.5)\n",
    "plt.xlim(-1, 1)\n",
    "plt.ylim(-1, 1)\n",
    "plt.plot([-1, 1], [0, 0], color='#c6c1d8', ls='--')\n",
    "plt.plot([0, 0], [-1, 1], color='#c6c1d8', ls='--')\n",
    "plt.xlabel(f\"F1 ({df_data.pca.explained_variance_ratio_[0]:.0%})\")\n",
    "plt.ylabel(f\"F2 ({df_data.pca.explained_variance_ratio_[1]:.0%})\")\n",
    "plt.title(\"Cercle de corrélation sur F1 et F2\")\n",
    "\n",
    "# Plot the correlation circle on F3 & F4\n",
    "ax2 = plt.subplots(figsize=(10,10))\n",
    "circle = plt.Circle((0,0), 1, facecolor='none', edgecolor='#3977af', zorder=3)\n",
    "plt.gca().add_artist(circle)\n",
    "plt.quiver(np.zeros(pcs.shape[1]), np.zeros(pcs.shape[1]),\n",
    "               pcs[2,:], pcs[3,:], \n",
    "               angles='xy', scale_units='xy', scale=1, color=\"#FFB246\")\n",
    "for i,(x, y) in enumerate(pcs[[2,3]].T):\n",
    "    if x >= -1 and x <= 1 and y >= -1 and y <= 1 :\n",
    "        plt.text(x, y, df_data.features[i], fontsize='14', ha='center', va='center', rotation=0, color=\"#3977af\", alpha=0.5)\n",
    "plt.xlim(-1, 1)\n",
    "plt.ylim(-1, 1)\n",
    "plt.plot([-1, 1], [0, 0], color='#c6c1d8', ls='--')\n",
    "plt.plot([0, 0], [-1, 1], color='#c6c1d8', ls='--')\n",
    "plt.xlabel(f\"F3 ({df_data.pca.explained_variance_ratio_[2]:.0%})\")\n",
    "plt.ylabel(f\"F4 ({df_data.pca.explained_variance_ratio_[3]:.0%})\")\n",
    "plt.title(\"Cercle de corrélation sur F3 et F4\")\n",
    "\n",
    "plt.show()"
   ]
  },
  {
   "cell_type": "code",
   "execution_count": 75,
   "metadata": {
    "colab": {
     "base_uri": "https://localhost:8080/",
     "height": 424
    },
    "executionInfo": {
     "elapsed": 611,
     "status": "ok",
     "timestamp": 1644511350315,
     "user": {
      "displayName": "Kevin Simon",
      "photoUrl": "https://lh3.googleusercontent.com/a-/AOh14Gg3FCABvilRbklDg4_wqSKqwlKXtHBhg3_Xddf997I=s64",
      "userId": "05485721485209418304"
     },
     "user_tz": -60
    },
    "id": "3qSxAGO7ghG6",
    "outputId": "a0d6abe6-0d2b-4105-98d3-6a55e70f0d80"
   },
   "outputs": [
    {
     "data": {
      "text/html": [
       "<div>\n",
       "<style scoped>\n",
       "    .dataframe tbody tr th:only-of-type {\n",
       "        vertical-align: middle;\n",
       "    }\n",
       "\n",
       "    .dataframe tbody tr th {\n",
       "        vertical-align: top;\n",
       "    }\n",
       "\n",
       "    .dataframe thead th {\n",
       "        text-align: right;\n",
       "    }\n",
       "</style>\n",
       "<table border=\"1\" class=\"dataframe\">\n",
       "  <thead>\n",
       "    <tr style=\"text-align: right;\">\n",
       "      <th></th>\n",
       "      <th>Country</th>\n",
       "      <th>pop_evol (%)</th>\n",
       "      <th>PIB 2013</th>\n",
       "      <th>kcal_total_capita_day</th>\n",
       "      <th>proteins_total_capita_day</th>\n",
       "      <th>proteins_animal_ratio</th>\n",
       "      <th>clusters</th>\n",
       "      <th>F1</th>\n",
       "      <th>F2</th>\n",
       "      <th>F3</th>\n",
       "    </tr>\n",
       "  </thead>\n",
       "  <tbody>\n",
       "    <tr>\n",
       "      <th>0</th>\n",
       "      <td>Arménie</td>\n",
       "      <td>-1.943347</td>\n",
       "      <td>3838.180041</td>\n",
       "      <td>2924.0</td>\n",
       "      <td>90.06</td>\n",
       "      <td>0.480235</td>\n",
       "      <td>5</td>\n",
       "      <td>0.511589</td>\n",
       "      <td>-1.086613</td>\n",
       "      <td>-0.382163</td>\n",
       "    </tr>\n",
       "    <tr>\n",
       "      <th>1</th>\n",
       "      <td>Afghanistan</td>\n",
       "      <td>32.168195</td>\n",
       "      <td>608.058642</td>\n",
       "      <td>2087.0</td>\n",
       "      <td>58.26</td>\n",
       "      <td>0.209749</td>\n",
       "      <td>1</td>\n",
       "      <td>-2.648007</td>\n",
       "      <td>0.435521</td>\n",
       "      <td>0.378822</td>\n",
       "    </tr>\n",
       "    <tr>\n",
       "      <th>2</th>\n",
       "      <td>Albanie</td>\n",
       "      <td>-2.037666</td>\n",
       "      <td>4399.863881</td>\n",
       "      <td>3188.0</td>\n",
       "      <td>111.37</td>\n",
       "      <td>0.533537</td>\n",
       "      <td>4</td>\n",
       "      <td>1.562424</td>\n",
       "      <td>-0.928378</td>\n",
       "      <td>-0.979067</td>\n",
       "    </tr>\n",
       "    <tr>\n",
       "      <th>3</th>\n",
       "      <td>Algérie</td>\n",
       "      <td>18.801321</td>\n",
       "      <td>5499.587619</td>\n",
       "      <td>3293.0</td>\n",
       "      <td>91.92</td>\n",
       "      <td>0.271867</td>\n",
       "      <td>5</td>\n",
       "      <td>0.111197</td>\n",
       "      <td>0.273961</td>\n",
       "      <td>-1.481151</td>\n",
       "    </tr>\n",
       "    <tr>\n",
       "      <th>4</th>\n",
       "      <td>Angola</td>\n",
       "      <td>39.238700</td>\n",
       "      <td>5254.883253</td>\n",
       "      <td>2474.0</td>\n",
       "      <td>57.27</td>\n",
       "      <td>0.321285</td>\n",
       "      <td>1</td>\n",
       "      <td>-1.883234</td>\n",
       "      <td>0.894616</td>\n",
       "      <td>0.308438</td>\n",
       "    </tr>\n",
       "    <tr>\n",
       "      <th>...</th>\n",
       "      <td>...</td>\n",
       "      <td>...</td>\n",
       "      <td>...</td>\n",
       "      <td>...</td>\n",
       "      <td>...</td>\n",
       "      <td>...</td>\n",
       "      <td>...</td>\n",
       "      <td>...</td>\n",
       "      <td>...</td>\n",
       "      <td>...</td>\n",
       "    </tr>\n",
       "    <tr>\n",
       "      <th>170</th>\n",
       "      <td>Luxembourg</td>\n",
       "      <td>18.568233</td>\n",
       "      <td>113792.672170</td>\n",
       "      <td>3540.0</td>\n",
       "      <td>113.64</td>\n",
       "      <td>0.634636</td>\n",
       "      <td>3</td>\n",
       "      <td>4.426726</td>\n",
       "      <td>2.067716</td>\n",
       "      <td>1.936440</td>\n",
       "    </tr>\n",
       "    <tr>\n",
       "      <th>171</th>\n",
       "      <td>Serbie</td>\n",
       "      <td>15.994234</td>\n",
       "      <td>6752.796587</td>\n",
       "      <td>2725.0</td>\n",
       "      <td>82.21</td>\n",
       "      <td>0.485707</td>\n",
       "      <td>5</td>\n",
       "      <td>-0.084829</td>\n",
       "      <td>-0.199444</td>\n",
       "      <td>0.065703</td>\n",
       "    </tr>\n",
       "    <tr>\n",
       "      <th>172</th>\n",
       "      <td>Monténégro</td>\n",
       "      <td>15.994234</td>\n",
       "      <td>7127.905005</td>\n",
       "      <td>3490.0</td>\n",
       "      <td>111.90</td>\n",
       "      <td>0.563986</td>\n",
       "      <td>4</td>\n",
       "      <td>1.836800</td>\n",
       "      <td>0.115261</td>\n",
       "      <td>-1.282109</td>\n",
       "    </tr>\n",
       "    <tr>\n",
       "      <th>173</th>\n",
       "      <td>Soudan</td>\n",
       "      <td>15.994234</td>\n",
       "      <td>1724.553464</td>\n",
       "      <td>2335.0</td>\n",
       "      <td>70.69</td>\n",
       "      <td>0.413071</td>\n",
       "      <td>5</td>\n",
       "      <td>-1.171774</td>\n",
       "      <td>-0.398864</td>\n",
       "      <td>0.452133</td>\n",
       "    </tr>\n",
       "    <tr>\n",
       "      <th>174</th>\n",
       "      <td>Chine</td>\n",
       "      <td>6.308016</td>\n",
       "      <td>7072.075325</td>\n",
       "      <td>3112.0</td>\n",
       "      <td>98.05</td>\n",
       "      <td>0.404284</td>\n",
       "      <td>5</td>\n",
       "      <td>0.670933</td>\n",
       "      <td>-0.452655</td>\n",
       "      <td>-0.919641</td>\n",
       "    </tr>\n",
       "  </tbody>\n",
       "</table>\n",
       "<p>175 rows × 10 columns</p>\n",
       "</div>"
      ],
      "text/plain": [
       "         Country  pop_evol (%)       PIB 2013  kcal_total_capita_day  \\\n",
       "0        Arménie     -1.943347    3838.180041                 2924.0   \n",
       "1    Afghanistan     32.168195     608.058642                 2087.0   \n",
       "2        Albanie     -2.037666    4399.863881                 3188.0   \n",
       "3        Algérie     18.801321    5499.587619                 3293.0   \n",
       "4         Angola     39.238700    5254.883253                 2474.0   \n",
       "..           ...           ...            ...                    ...   \n",
       "170   Luxembourg     18.568233  113792.672170                 3540.0   \n",
       "171       Serbie     15.994234    6752.796587                 2725.0   \n",
       "172   Monténégro     15.994234    7127.905005                 3490.0   \n",
       "173       Soudan     15.994234    1724.553464                 2335.0   \n",
       "174        Chine      6.308016    7072.075325                 3112.0   \n",
       "\n",
       "     proteins_total_capita_day  proteins_animal_ratio  clusters        F1  \\\n",
       "0                        90.06               0.480235         5  0.511589   \n",
       "1                        58.26               0.209749         1 -2.648007   \n",
       "2                       111.37               0.533537         4  1.562424   \n",
       "3                        91.92               0.271867         5  0.111197   \n",
       "4                        57.27               0.321285         1 -1.883234   \n",
       "..                         ...                    ...       ...       ...   \n",
       "170                     113.64               0.634636         3  4.426726   \n",
       "171                      82.21               0.485707         5 -0.084829   \n",
       "172                     111.90               0.563986         4  1.836800   \n",
       "173                      70.69               0.413071         5 -1.171774   \n",
       "174                      98.05               0.404284         5  0.670933   \n",
       "\n",
       "           F2        F3  \n",
       "0   -1.086613 -0.382163  \n",
       "1    0.435521  0.378822  \n",
       "2   -0.928378 -0.979067  \n",
       "3    0.273961 -1.481151  \n",
       "4    0.894616  0.308438  \n",
       "..        ...       ...  \n",
       "170  2.067716  1.936440  \n",
       "171 -0.199444  0.065703  \n",
       "172  0.115261 -1.282109  \n",
       "173 -0.398864  0.452133  \n",
       "174 -0.452655 -0.919641  \n",
       "\n",
       "[175 rows x 10 columns]"
      ]
     },
     "execution_count": 75,
     "metadata": {},
     "output_type": "execute_result"
    }
   ],
   "source": [
    "# Create 3 new columns to add PCA dimensions' values\n",
    "df_data['F1'] = 1.0\n",
    "df_data['F2'] = 2.0\n",
    "df_data['F3'] = 3.0\n",
    "\n",
    "# add PCA dimensions' values\n",
    "for j in range(len(df_data)):\n",
    "    df_data['F1'][j] = df_data.X_projected[j][0]\n",
    "    df_data['F2'][j] = df_data.X_projected[j][1]\n",
    "    df_data['F3'][j] = df_data.X_projected[j][2]\n",
    "\n",
    "df_data = df_data.reset_index()\n",
    "df_data"
   ]
  },
  {
   "cell_type": "code",
   "execution_count": 85,
   "metadata": {
    "colab": {
     "base_uri": "https://localhost:8080/",
     "height": 424
    },
    "executionInfo": {
     "elapsed": 63,
     "status": "ok",
     "timestamp": 1644511350317,
     "user": {
      "displayName": "Kevin Simon",
      "photoUrl": "https://lh3.googleusercontent.com/a-/AOh14Gg3FCABvilRbklDg4_wqSKqwlKXtHBhg3_Xddf997I=s64",
      "userId": "05485721485209418304"
     },
     "user_tz": -60
    },
    "id": "EsIwWI3LwT6B",
    "outputId": "70542fd7-abd8-45b8-eb6b-5642a7525963"
   },
   "outputs": [
    {
     "data": {
      "text/html": [
       "<div>\n",
       "<style scoped>\n",
       "    .dataframe tbody tr th:only-of-type {\n",
       "        vertical-align: middle;\n",
       "    }\n",
       "\n",
       "    .dataframe tbody tr th {\n",
       "        vertical-align: top;\n",
       "    }\n",
       "\n",
       "    .dataframe thead th {\n",
       "        text-align: right;\n",
       "    }\n",
       "</style>\n",
       "<table border=\"1\" class=\"dataframe\">\n",
       "  <thead>\n",
       "    <tr style=\"text-align: right;\">\n",
       "      <th></th>\n",
       "      <th>Country</th>\n",
       "      <th>pop_evol (%)</th>\n",
       "      <th>PIB 2013</th>\n",
       "      <th>kcal_total_capita_day</th>\n",
       "      <th>proteins_total_capita_day</th>\n",
       "      <th>proteins_animal_ratio</th>\n",
       "      <th>clusters</th>\n",
       "      <th>F1</th>\n",
       "      <th>F2</th>\n",
       "      <th>F3</th>\n",
       "      <th>cluster</th>\n",
       "    </tr>\n",
       "  </thead>\n",
       "  <tbody>\n",
       "    <tr>\n",
       "      <th>145</th>\n",
       "      <td>Suisse</td>\n",
       "      <td>10.824530</td>\n",
       "      <td>87897.255850</td>\n",
       "      <td>3393.0</td>\n",
       "      <td>92.89</td>\n",
       "      <td>0.643449</td>\n",
       "      <td>3</td>\n",
       "      <td>3.270936</td>\n",
       "      <td>1.050009</td>\n",
       "      <td>1.820679</td>\n",
       "      <td>Très Riches et très bien nourris</td>\n",
       "    </tr>\n",
       "    <tr>\n",
       "      <th>146</th>\n",
       "      <td>Turkménistan</td>\n",
       "      <td>12.736661</td>\n",
       "      <td>7304.283049</td>\n",
       "      <td>2836.0</td>\n",
       "      <td>90.50</td>\n",
       "      <td>0.419337</td>\n",
       "      <td>5</td>\n",
       "      <td>0.117545</td>\n",
       "      <td>-0.236331</td>\n",
       "      <td>-0.390381</td>\n",
       "      <td>Pauvres et mal nourris</td>\n",
       "    </tr>\n",
       "    <tr>\n",
       "      <th>147</th>\n",
       "      <td>Chine, Taiwan Province de</td>\n",
       "      <td>3.975399</td>\n",
       "      <td>14520.729068</td>\n",
       "      <td>2998.0</td>\n",
       "      <td>89.73</td>\n",
       "      <td>0.484676</td>\n",
       "      <td>5</td>\n",
       "      <td>0.753783</td>\n",
       "      <td>-0.579905</td>\n",
       "      <td>-0.166429</td>\n",
       "      <td>Pauvres et mal nourris</td>\n",
       "    </tr>\n",
       "    <tr>\n",
       "      <th>148</th>\n",
       "      <td>République-Unie de Tanzanie</td>\n",
       "      <td>33.981665</td>\n",
       "      <td>964.249441</td>\n",
       "      <td>2204.0</td>\n",
       "      <td>57.76</td>\n",
       "      <td>0.176593</td>\n",
       "      <td>1</td>\n",
       "      <td>-2.644549</td>\n",
       "      <td>0.585538</td>\n",
       "      <td>0.151893</td>\n",
       "      <td>Très Pauvres et très mal nourris</td>\n",
       "    </tr>\n",
       "    <tr>\n",
       "      <th>149</th>\n",
       "      <td>Thaïlande</td>\n",
       "      <td>3.912356</td>\n",
       "      <td>6168.268616</td>\n",
       "      <td>2785.0</td>\n",
       "      <td>60.85</td>\n",
       "      <td>0.408381</td>\n",
       "      <td>5</td>\n",
       "      <td>-0.678036</td>\n",
       "      <td>-0.897322</td>\n",
       "      <td>0.221504</td>\n",
       "      <td>Pauvres et mal nourris</td>\n",
       "    </tr>\n",
       "    <tr>\n",
       "      <th>150</th>\n",
       "      <td>Togo</td>\n",
       "      <td>29.625404</td>\n",
       "      <td>720.256705</td>\n",
       "      <td>2448.0</td>\n",
       "      <td>59.76</td>\n",
       "      <td>0.151272</td>\n",
       "      <td>1</td>\n",
       "      <td>-2.335784</td>\n",
       "      <td>0.443625</td>\n",
       "      <td>-0.263073</td>\n",
       "      <td>Très Pauvres et très mal nourris</td>\n",
       "    </tr>\n",
       "    <tr>\n",
       "      <th>151</th>\n",
       "      <td>Trinité-et-Tobago</td>\n",
       "      <td>4.439252</td>\n",
       "      <td>20143.525527</td>\n",
       "      <td>3049.0</td>\n",
       "      <td>83.33</td>\n",
       "      <td>0.517341</td>\n",
       "      <td>5</td>\n",
       "      <td>0.855546</td>\n",
       "      <td>-0.507122</td>\n",
       "      <td>0.143715</td>\n",
       "      <td>Pauvres et mal nourris</td>\n",
       "    </tr>\n",
       "    <tr>\n",
       "      <th>152</th>\n",
       "      <td>Oman</td>\n",
       "      <td>52.030138</td>\n",
       "      <td>20865.786276</td>\n",
       "      <td>3140.0</td>\n",
       "      <td>88.21</td>\n",
       "      <td>0.517968</td>\n",
       "      <td>5</td>\n",
       "      <td>0.479618</td>\n",
       "      <td>2.039557</td>\n",
       "      <td>-0.214147</td>\n",
       "      <td>Pauvres et mal nourris</td>\n",
       "    </tr>\n",
       "    <tr>\n",
       "      <th>153</th>\n",
       "      <td>Tunisie</td>\n",
       "      <td>11.678684</td>\n",
       "      <td>4222.812667</td>\n",
       "      <td>3349.0</td>\n",
       "      <td>98.49</td>\n",
       "      <td>0.288050</td>\n",
       "      <td>5</td>\n",
       "      <td>0.467676</td>\n",
       "      <td>-0.078536</td>\n",
       "      <td>-1.650574</td>\n",
       "      <td>Pauvres et mal nourris</td>\n",
       "    </tr>\n",
       "    <tr>\n",
       "      <th>154</th>\n",
       "      <td>Turquie</td>\n",
       "      <td>13.641603</td>\n",
       "      <td>12614.990713</td>\n",
       "      <td>3708.0</td>\n",
       "      <td>108.12</td>\n",
       "      <td>0.335831</td>\n",
       "      <td>5</td>\n",
       "      <td>1.439243</td>\n",
       "      <td>0.280341</td>\n",
       "      <td>-1.934890</td>\n",
       "      <td>Pauvres et mal nourris</td>\n",
       "    </tr>\n",
       "    <tr>\n",
       "      <th>155</th>\n",
       "      <td>Émirats arabes unis</td>\n",
       "      <td>177.411695</td>\n",
       "      <td>42412.627269</td>\n",
       "      <td>3275.0</td>\n",
       "      <td>104.51</td>\n",
       "      <td>0.399005</td>\n",
       "      <td>2</td>\n",
       "      <td>-0.482140</td>\n",
       "      <td>9.169300</td>\n",
       "      <td>-0.835151</td>\n",
       "      <td>Émirats arabes unis</td>\n",
       "    </tr>\n",
       "    <tr>\n",
       "      <th>156</th>\n",
       "      <td>Ouganda</td>\n",
       "      <td>40.021611</td>\n",
       "      <td>720.369242</td>\n",
       "      <td>2126.0</td>\n",
       "      <td>52.64</td>\n",
       "      <td>0.235372</td>\n",
       "      <td>1</td>\n",
       "      <td>-2.777252</td>\n",
       "      <td>0.805240</td>\n",
       "      <td>0.482293</td>\n",
       "      <td>Très Pauvres et très mal nourris</td>\n",
       "    </tr>\n",
       "    <tr>\n",
       "      <th>157</th>\n",
       "      <td>Royaume-Uni</td>\n",
       "      <td>5.765155</td>\n",
       "      <td>42829.778396</td>\n",
       "      <td>3425.0</td>\n",
       "      <td>103.14</td>\n",
       "      <td>0.565057</td>\n",
       "      <td>3</td>\n",
       "      <td>2.436840</td>\n",
       "      <td>0.130548</td>\n",
       "      <td>0.061439</td>\n",
       "      <td>Très Riches et très bien nourris</td>\n",
       "    </tr>\n",
       "    <tr>\n",
       "      <th>158</th>\n",
       "      <td>Ukraine</td>\n",
       "      <td>-5.371598</td>\n",
       "      <td>4047.744721</td>\n",
       "      <td>3138.0</td>\n",
       "      <td>88.63</td>\n",
       "      <td>0.486855</td>\n",
       "      <td>5</td>\n",
       "      <td>0.788841</td>\n",
       "      <td>-1.222653</td>\n",
       "      <td>-0.595480</td>\n",
       "      <td>Pauvres et mal nourris</td>\n",
       "    </tr>\n",
       "    <tr>\n",
       "      <th>159</th>\n",
       "      <td>États-Unis d'Amérique</td>\n",
       "      <td>9.276059</td>\n",
       "      <td>53049.375662</td>\n",
       "      <td>3682.0</td>\n",
       "      <td>109.42</td>\n",
       "      <td>0.637726</td>\n",
       "      <td>3</td>\n",
       "      <td>3.296382</td>\n",
       "      <td>0.539268</td>\n",
       "      <td>0.089727</td>\n",
       "      <td>Très Riches et très bien nourris</td>\n",
       "    </tr>\n",
       "    <tr>\n",
       "      <th>160</th>\n",
       "      <td>Burkina Faso</td>\n",
       "      <td>33.778340</td>\n",
       "      <td>787.245866</td>\n",
       "      <td>2717.0</td>\n",
       "      <td>79.37</td>\n",
       "      <td>0.139473</td>\n",
       "      <td>1</td>\n",
       "      <td>-1.590215</td>\n",
       "      <td>0.852262</td>\n",
       "      <td>-1.037953</td>\n",
       "      <td>Très Pauvres et très mal nourris</td>\n",
       "    </tr>\n",
       "    <tr>\n",
       "      <th>161</th>\n",
       "      <td>Uruguay</td>\n",
       "      <td>2.466165</td>\n",
       "      <td>16973.651468</td>\n",
       "      <td>3052.0</td>\n",
       "      <td>92.33</td>\n",
       "      <td>0.584859</td>\n",
       "      <td>5</td>\n",
       "      <td>1.264055</td>\n",
       "      <td>-0.658653</td>\n",
       "      <td>0.059862</td>\n",
       "      <td>Pauvres et mal nourris</td>\n",
       "    </tr>\n",
       "    <tr>\n",
       "      <th>162</th>\n",
       "      <td>Ouzbékistan</td>\n",
       "      <td>13.226892</td>\n",
       "      <td>2305.082178</td>\n",
       "      <td>2759.0</td>\n",
       "      <td>83.41</td>\n",
       "      <td>0.349958</td>\n",
       "      <td>5</td>\n",
       "      <td>-0.487202</td>\n",
       "      <td>-0.308991</td>\n",
       "      <td>-0.487840</td>\n",
       "      <td>Pauvres et mal nourris</td>\n",
       "    </tr>\n",
       "    <tr>\n",
       "      <th>163</th>\n",
       "      <td>Venezuela (République bolivarienne du)</td>\n",
       "      <td>17.862542</td>\n",
       "      <td>12468.950772</td>\n",
       "      <td>2633.0</td>\n",
       "      <td>72.96</td>\n",
       "      <td>0.522478</td>\n",
       "      <td>5</td>\n",
       "      <td>-0.227685</td>\n",
       "      <td>-0.106635</td>\n",
       "      <td>0.625451</td>\n",
       "      <td>Pauvres et mal nourris</td>\n",
       "    </tr>\n",
       "    <tr>\n",
       "      <th>164</th>\n",
       "      <td>Viet Nam</td>\n",
       "      <td>9.990042</td>\n",
       "      <td>1886.690194</td>\n",
       "      <td>2744.0</td>\n",
       "      <td>81.61</td>\n",
       "      <td>0.380468</td>\n",
       "      <td>5</td>\n",
       "      <td>-0.425925</td>\n",
       "      <td>-0.521159</td>\n",
       "      <td>-0.352174</td>\n",
       "      <td>Pauvres et mal nourris</td>\n",
       "    </tr>\n",
       "    <tr>\n",
       "      <th>165</th>\n",
       "      <td>Éthiopie</td>\n",
       "      <td>30.713988</td>\n",
       "      <td>487.934328</td>\n",
       "      <td>2129.0</td>\n",
       "      <td>60.39</td>\n",
       "      <td>0.127339</td>\n",
       "      <td>1</td>\n",
       "      <td>-2.777400</td>\n",
       "      <td>0.439002</td>\n",
       "      <td>0.062871</td>\n",
       "      <td>Très Pauvres et très mal nourris</td>\n",
       "    </tr>\n",
       "    <tr>\n",
       "      <th>166</th>\n",
       "      <td>Samoa</td>\n",
       "      <td>6.741573</td>\n",
       "      <td>4005.736315</td>\n",
       "      <td>2956.0</td>\n",
       "      <td>85.53</td>\n",
       "      <td>0.627382</td>\n",
       "      <td>5</td>\n",
       "      <td>0.764452</td>\n",
       "      <td>-0.754052</td>\n",
       "      <td>0.034680</td>\n",
       "      <td>Pauvres et mal nourris</td>\n",
       "    </tr>\n",
       "    <tr>\n",
       "      <th>167</th>\n",
       "      <td>Yémen</td>\n",
       "      <td>27.912583</td>\n",
       "      <td>1382.078841</td>\n",
       "      <td>2217.0</td>\n",
       "      <td>58.90</td>\n",
       "      <td>0.235654</td>\n",
       "      <td>1</td>\n",
       "      <td>-2.329661</td>\n",
       "      <td>0.244110</td>\n",
       "      <td>0.305383</td>\n",
       "      <td>Très Pauvres et très mal nourris</td>\n",
       "    </tr>\n",
       "    <tr>\n",
       "      <th>168</th>\n",
       "      <td>Zambie</td>\n",
       "      <td>33.446535</td>\n",
       "      <td>1781.071946</td>\n",
       "      <td>1924.0</td>\n",
       "      <td>55.22</td>\n",
       "      <td>0.167150</td>\n",
       "      <td>1</td>\n",
       "      <td>-3.038156</td>\n",
       "      <td>0.494775</td>\n",
       "      <td>0.564608</td>\n",
       "      <td>Très Pauvres et très mal nourris</td>\n",
       "    </tr>\n",
       "    <tr>\n",
       "      <th>169</th>\n",
       "      <td>Belgique</td>\n",
       "      <td>6.923447</td>\n",
       "      <td>46767.284696</td>\n",
       "      <td>3737.0</td>\n",
       "      <td>99.37</td>\n",
       "      <td>0.584885</td>\n",
       "      <td>3</td>\n",
       "      <td>2.823990</td>\n",
       "      <td>0.299074</td>\n",
       "      <td>-0.104292</td>\n",
       "      <td>Très Riches et très bien nourris</td>\n",
       "    </tr>\n",
       "    <tr>\n",
       "      <th>170</th>\n",
       "      <td>Luxembourg</td>\n",
       "      <td>18.568233</td>\n",
       "      <td>113792.672170</td>\n",
       "      <td>3540.0</td>\n",
       "      <td>113.64</td>\n",
       "      <td>0.634636</td>\n",
       "      <td>3</td>\n",
       "      <td>4.426726</td>\n",
       "      <td>2.067716</td>\n",
       "      <td>1.936440</td>\n",
       "      <td>Très Riches et très bien nourris</td>\n",
       "    </tr>\n",
       "    <tr>\n",
       "      <th>171</th>\n",
       "      <td>Serbie</td>\n",
       "      <td>15.994234</td>\n",
       "      <td>6752.796587</td>\n",
       "      <td>2725.0</td>\n",
       "      <td>82.21</td>\n",
       "      <td>0.485707</td>\n",
       "      <td>5</td>\n",
       "      <td>-0.084829</td>\n",
       "      <td>-0.199444</td>\n",
       "      <td>0.065703</td>\n",
       "      <td>Pauvres et mal nourris</td>\n",
       "    </tr>\n",
       "    <tr>\n",
       "      <th>172</th>\n",
       "      <td>Monténégro</td>\n",
       "      <td>15.994234</td>\n",
       "      <td>7127.905005</td>\n",
       "      <td>3490.0</td>\n",
       "      <td>111.90</td>\n",
       "      <td>0.563986</td>\n",
       "      <td>4</td>\n",
       "      <td>1.836800</td>\n",
       "      <td>0.115261</td>\n",
       "      <td>-1.282109</td>\n",
       "      <td>Riches et bien nourris</td>\n",
       "    </tr>\n",
       "    <tr>\n",
       "      <th>173</th>\n",
       "      <td>Soudan</td>\n",
       "      <td>15.994234</td>\n",
       "      <td>1724.553464</td>\n",
       "      <td>2335.0</td>\n",
       "      <td>70.69</td>\n",
       "      <td>0.413071</td>\n",
       "      <td>5</td>\n",
       "      <td>-1.171774</td>\n",
       "      <td>-0.398864</td>\n",
       "      <td>0.452133</td>\n",
       "      <td>Pauvres et mal nourris</td>\n",
       "    </tr>\n",
       "    <tr>\n",
       "      <th>174</th>\n",
       "      <td>Chine</td>\n",
       "      <td>6.308016</td>\n",
       "      <td>7072.075325</td>\n",
       "      <td>3112.0</td>\n",
       "      <td>98.05</td>\n",
       "      <td>0.404284</td>\n",
       "      <td>5</td>\n",
       "      <td>0.670933</td>\n",
       "      <td>-0.452655</td>\n",
       "      <td>-0.919641</td>\n",
       "      <td>Pauvres et mal nourris</td>\n",
       "    </tr>\n",
       "  </tbody>\n",
       "</table>\n",
       "</div>"
      ],
      "text/plain": [
       "                                    Country  pop_evol (%)       PIB 2013  \\\n",
       "145                                  Suisse     10.824530   87897.255850   \n",
       "146                            Turkménistan     12.736661    7304.283049   \n",
       "147               Chine, Taiwan Province de      3.975399   14520.729068   \n",
       "148             République-Unie de Tanzanie     33.981665     964.249441   \n",
       "149                               Thaïlande      3.912356    6168.268616   \n",
       "150                                    Togo     29.625404     720.256705   \n",
       "151                       Trinité-et-Tobago      4.439252   20143.525527   \n",
       "152                                    Oman     52.030138   20865.786276   \n",
       "153                                 Tunisie     11.678684    4222.812667   \n",
       "154                                 Turquie     13.641603   12614.990713   \n",
       "155                     Émirats arabes unis    177.411695   42412.627269   \n",
       "156                                 Ouganda     40.021611     720.369242   \n",
       "157                             Royaume-Uni      5.765155   42829.778396   \n",
       "158                                 Ukraine     -5.371598    4047.744721   \n",
       "159                   États-Unis d'Amérique      9.276059   53049.375662   \n",
       "160                            Burkina Faso     33.778340     787.245866   \n",
       "161                                 Uruguay      2.466165   16973.651468   \n",
       "162                             Ouzbékistan     13.226892    2305.082178   \n",
       "163  Venezuela (République bolivarienne du)     17.862542   12468.950772   \n",
       "164                                Viet Nam      9.990042    1886.690194   \n",
       "165                                Éthiopie     30.713988     487.934328   \n",
       "166                                   Samoa      6.741573    4005.736315   \n",
       "167                                   Yémen     27.912583    1382.078841   \n",
       "168                                  Zambie     33.446535    1781.071946   \n",
       "169                                Belgique      6.923447   46767.284696   \n",
       "170                              Luxembourg     18.568233  113792.672170   \n",
       "171                                  Serbie     15.994234    6752.796587   \n",
       "172                              Monténégro     15.994234    7127.905005   \n",
       "173                                  Soudan     15.994234    1724.553464   \n",
       "174                                   Chine      6.308016    7072.075325   \n",
       "\n",
       "     kcal_total_capita_day  proteins_total_capita_day  proteins_animal_ratio  \\\n",
       "145                 3393.0                      92.89               0.643449   \n",
       "146                 2836.0                      90.50               0.419337   \n",
       "147                 2998.0                      89.73               0.484676   \n",
       "148                 2204.0                      57.76               0.176593   \n",
       "149                 2785.0                      60.85               0.408381   \n",
       "150                 2448.0                      59.76               0.151272   \n",
       "151                 3049.0                      83.33               0.517341   \n",
       "152                 3140.0                      88.21               0.517968   \n",
       "153                 3349.0                      98.49               0.288050   \n",
       "154                 3708.0                     108.12               0.335831   \n",
       "155                 3275.0                     104.51               0.399005   \n",
       "156                 2126.0                      52.64               0.235372   \n",
       "157                 3425.0                     103.14               0.565057   \n",
       "158                 3138.0                      88.63               0.486855   \n",
       "159                 3682.0                     109.42               0.637726   \n",
       "160                 2717.0                      79.37               0.139473   \n",
       "161                 3052.0                      92.33               0.584859   \n",
       "162                 2759.0                      83.41               0.349958   \n",
       "163                 2633.0                      72.96               0.522478   \n",
       "164                 2744.0                      81.61               0.380468   \n",
       "165                 2129.0                      60.39               0.127339   \n",
       "166                 2956.0                      85.53               0.627382   \n",
       "167                 2217.0                      58.90               0.235654   \n",
       "168                 1924.0                      55.22               0.167150   \n",
       "169                 3737.0                      99.37               0.584885   \n",
       "170                 3540.0                     113.64               0.634636   \n",
       "171                 2725.0                      82.21               0.485707   \n",
       "172                 3490.0                     111.90               0.563986   \n",
       "173                 2335.0                      70.69               0.413071   \n",
       "174                 3112.0                      98.05               0.404284   \n",
       "\n",
       "     clusters        F1        F2        F3                           cluster  \n",
       "145         3  3.270936  1.050009  1.820679  Très Riches et très bien nourris  \n",
       "146         5  0.117545 -0.236331 -0.390381            Pauvres et mal nourris  \n",
       "147         5  0.753783 -0.579905 -0.166429            Pauvres et mal nourris  \n",
       "148         1 -2.644549  0.585538  0.151893  Très Pauvres et très mal nourris  \n",
       "149         5 -0.678036 -0.897322  0.221504            Pauvres et mal nourris  \n",
       "150         1 -2.335784  0.443625 -0.263073  Très Pauvres et très mal nourris  \n",
       "151         5  0.855546 -0.507122  0.143715            Pauvres et mal nourris  \n",
       "152         5  0.479618  2.039557 -0.214147            Pauvres et mal nourris  \n",
       "153         5  0.467676 -0.078536 -1.650574            Pauvres et mal nourris  \n",
       "154         5  1.439243  0.280341 -1.934890            Pauvres et mal nourris  \n",
       "155         2 -0.482140  9.169300 -0.835151               Émirats arabes unis  \n",
       "156         1 -2.777252  0.805240  0.482293  Très Pauvres et très mal nourris  \n",
       "157         3  2.436840  0.130548  0.061439  Très Riches et très bien nourris  \n",
       "158         5  0.788841 -1.222653 -0.595480            Pauvres et mal nourris  \n",
       "159         3  3.296382  0.539268  0.089727  Très Riches et très bien nourris  \n",
       "160         1 -1.590215  0.852262 -1.037953  Très Pauvres et très mal nourris  \n",
       "161         5  1.264055 -0.658653  0.059862            Pauvres et mal nourris  \n",
       "162         5 -0.487202 -0.308991 -0.487840            Pauvres et mal nourris  \n",
       "163         5 -0.227685 -0.106635  0.625451            Pauvres et mal nourris  \n",
       "164         5 -0.425925 -0.521159 -0.352174            Pauvres et mal nourris  \n",
       "165         1 -2.777400  0.439002  0.062871  Très Pauvres et très mal nourris  \n",
       "166         5  0.764452 -0.754052  0.034680            Pauvres et mal nourris  \n",
       "167         1 -2.329661  0.244110  0.305383  Très Pauvres et très mal nourris  \n",
       "168         1 -3.038156  0.494775  0.564608  Très Pauvres et très mal nourris  \n",
       "169         3  2.823990  0.299074 -0.104292  Très Riches et très bien nourris  \n",
       "170         3  4.426726  2.067716  1.936440  Très Riches et très bien nourris  \n",
       "171         5 -0.084829 -0.199444  0.065703            Pauvres et mal nourris  \n",
       "172         4  1.836800  0.115261 -1.282109            Riches et bien nourris  \n",
       "173         5 -1.171774 -0.398864  0.452133            Pauvres et mal nourris  \n",
       "174         5  0.670933 -0.452655 -0.919641            Pauvres et mal nourris  "
      ]
     },
     "metadata": {},
     "output_type": "display_data"
    }
   ],
   "source": [
    "# Rename the centroids\n",
    "centroids_names = [\n",
    "    'Très pauvres et très mal nourris',\n",
    "    'Émirats arabes unis',\n",
    "    'Très riches et très bien nourris',\n",
    "    'Riches et bien nourris',\n",
    "    'Pauvres et mal nourris'\n",
    "]\n",
    "df_data['cluster']=''\n",
    "# Rename the complete clusters list\n",
    "for i in df_data.index:\n",
    "  if df_data.clusters[i] == 1:\n",
    "    df_data.cluster[i] = 'Très Pauvres et très mal nourris'\n",
    "  elif df_data.clusters[i] == 2:\n",
    "    df_data.cluster[i] = 'Émirats arabes unis'\n",
    "  elif df_data.clusters[i] == 3:\n",
    "    df_data.cluster[i] = 'Très Riches et très bien nourris'\n",
    "  elif df_data.clusters[i] == 4:\n",
    "    df_data.cluster[i] = 'Riches et bien nourris'\n",
    "  elif df_data.clusters[i] == 5:\n",
    "    df_data.cluster[i] = 'Pauvres et mal nourris'\n",
    "  else:\n",
    "    df_data.cluster[i] = ''\n",
    "\n",
    "display(df_data.tail(30))"
   ]
  },
  {
   "cell_type": "code",
   "execution_count": 84,
   "metadata": {
    "colab": {
     "base_uri": "https://localhost:8080/",
     "height": 542
    },
    "executionInfo": {
     "elapsed": 855,
     "status": "ok",
     "timestamp": 1644511351111,
     "user": {
      "displayName": "Kevin Simon",
      "photoUrl": "https://lh3.googleusercontent.com/a-/AOh14Gg3FCABvilRbklDg4_wqSKqwlKXtHBhg3_Xddf997I=s64",
      "userId": "05485721485209418304"
     },
     "user_tz": -60
    },
    "id": "OiS2NEkqghG6",
    "outputId": "0598d977-0795-4bdd-c25c-2158719c71a7"
   },
   "outputs": [
    {
     "data": {
      "application/vnd.plotly.v1+json": {
       "config": {
        "plotlyServerURL": "https://plot.ly"
       },
       "data": [
        {
         "hovertemplate": "<b>%{hovertext}</b><br><br>cluster=Pauvres et mal nourris<br>F1=%{x}<br>F2=%{y}<br>F3=%{z}<extra></extra>",
         "hovertext": [
          "Arménie",
          "Algérie",
          "Antigua-et-Barbuda",
          "Barbade",
          "Bolivie (État plurinational de)",
          "Botswana",
          "Belize",
          "Bulgarie",
          "Myanmar",
          "Cabo Verde",
          "Chili",
          "Colombie",
          "Costa Rica",
          "Cuba",
          "Azerbaïdjan",
          "Dominique",
          "République dominicaine",
          "Équateur",
          "Égypte",
          "El Salvador",
          "Fidji",
          "Géorgie",
          "Gabon",
          "Bosnie-Herzégovine",
          "Kiribati",
          "Grenade",
          "Guyana",
          "Hongrie",
          "Croatie",
          "Iran (République islamique d')",
          "Jamaïque",
          "Jordanie",
          "Kirghizistan",
          "Koweït",
          "Liban",
          "Malaisie",
          "Mali",
          "Mauritanie",
          "Maurice",
          "Mexique",
          "Mongolie",
          "Maroc",
          "République de Moldova",
          "Antilles néerlandaises (ex)",
          "l'ex-République yougoslave de Macédoine",
          "Vanuatu",
          "Pakistan",
          "Panama",
          "Paraguay",
          "Pérou",
          "Philippines",
          "Serbie-et-Monténégro",
          "Saint-Kitts-et-Nevis",
          "Sainte-Lucie",
          "Saint-Vincent-et-les Grenadines",
          "Arabie saoudite",
          "Slovaquie",
          "Afrique du Sud",
          "Soudan (ex)",
          "Suriname",
          "Turkménistan",
          "Chine, Taiwan Province de",
          "Thaïlande",
          "Trinité-et-Tobago",
          "Oman",
          "Tunisie",
          "Turquie",
          "Ukraine",
          "Uruguay",
          "Ouzbékistan",
          "Venezuela (République bolivarienne du)",
          "Viet Nam",
          "Samoa",
          "Serbie",
          "Soudan",
          "Chine"
         ],
         "legendgroup": "Pauvres et mal nourris",
         "marker": {
          "color": "#636efa",
          "opacity": 0.8,
          "symbol": "circle"
         },
         "mode": "markers",
         "name": "Pauvres et mal nourris",
         "scene": "scene",
         "showlegend": true,
         "type": "scatter3d",
         "x": [
          0.5115886257152283,
          0.11119734973560556,
          0.3871463496978967,
          0.9403338142657193,
          -1.28547795508327,
          -1.1630926743997962,
          -0.7925461369228818,
          0.423418491991923,
          -0.4894111889555565,
          -0.7246850712057052,
          0.71837579103245,
          -0.3331816570031549,
          0.1159239876240049,
          0.7201315931409721,
          0.2283666169331409,
          0.25618590535043223,
          -0.9520310679428702,
          -0.7930362668601818,
          0.5773327262423467,
          -0.871887115799212,
          -0.18125862430519407,
          -0.09506547369614143,
          0.09716668164050325,
          0.39072204909365105,
          -0.09772580507873425,
          -0.22513507102508534,
          -0.1114183183700174,
          0.7134045528241301,
          1.0004945408757182,
          -0.19035823543873448,
          -0.11210938320430291,
          -0.6202066694285802,
          -0.1759937001924793,
          1.8792659090316068,
          -0.2981847721322278,
          0.3773443656553816,
          -0.8511350348730377,
          -0.409963625160152,
          0.5942928926932803,
          0.5101107080447316,
          -0.05829267653597976,
          0.442453028911084,
          -0.1081639346976272,
          2.2627723133359826e-16,
          0.0009530081719393372,
          -0.7246427827603705,
          -1.242429214917619,
          0.032932639543536396,
          -0.6300926967566115,
          -0.6430277803983363,
          -1.207494194118665,
          2.2627723133359826e-16,
          0.0828587338865099,
          0.2780652933395048,
          0.6754285762185233,
          0.880041028379525,
          0.335061164341011,
          0.20285709606983737,
          2.2627723133359826e-16,
          -0.5500382935530886,
          0.11754492160087163,
          0.7537831683171027,
          -0.6780356245931329,
          0.8555460146538435,
          0.479618453305157,
          0.4676760667520666,
          1.4392430839515604,
          0.7888411246591455,
          1.2640546032473978,
          -0.4872016930202997,
          -0.22768529671303633,
          -0.4259253604028278,
          0.7644520573835095,
          -0.08482878267939291,
          -1.1717743437455415,
          0.6709333102444576
         ],
         "y": [
          -1.0866131161314585,
          0.27396064783548435,
          -0.5541971102895918,
          -0.5652867723307775,
          -0.33179035105693183,
          -0.63610533466011,
          0.44048288400722463,
          -1.3836132401252663,
          -0.7208118885967364,
          -0.7359868413144101,
          -0.2773882488829911,
          -0.3177503528824814,
          -0.14811287862618117,
          -0.7094963698850072,
          -0.08866975052075161,
          -0.8853189545772239,
          -0.4244168798841481,
          -0.37557147357725734,
          0.33356367568938444,
          -0.8249448427395412,
          -0.6146043277884444,
          -1.2096283326455601,
          0.46789015747173923,
          -0.8822815973701746,
          -0.1934629642136664,
          -1.0399365828816147,
          -0.7241868724605555,
          -0.9884068192650006,
          -1.0251848219308628,
          -0.06787979134649608,
          -0.8191893099864817,
          1.4949807689650303,
          -0.47475852526719636,
          3.1304820139214216,
          0.7366962307684786,
          0.042835524951637505,
          0.9657384522680897,
          0.6221379898185975,
          -0.6666877471779775,
          -0.14475890040784145,
          -0.4362188746603553,
          -0.08221261459479182,
          -1.7310337036294396,
          1.236476352494756e-16,
          -0.9115417223214691,
          0.3182586410696117,
          -0.2341418623094388,
          0.014231758002885125,
          -0.12238816545660215,
          -0.3589339672228706,
          -0.22653762756060355,
          1.236476352494756e-16,
          -0.4285939808524316,
          -0.4310425439594572,
          -0.9464749746245164,
          0.8646961100655413,
          -0.7802577824586027,
          -0.24213310533864688,
          1.236476352494756e-16,
          -0.5150807435869218,
          -0.23633077467229735,
          -0.5799045007391752,
          -0.8973215774332263,
          -0.5071221648546571,
          2.039557282645839,
          -0.07853578325005346,
          0.2803413742719277,
          -1.222652716675807,
          -0.6586525389788063,
          -0.3089910470892942,
          -0.10663540465068988,
          -0.5211588609963748,
          -0.7540516567740732,
          -0.19944422467202735,
          -0.39886426347575776,
          -0.4526549603988143
         ],
         "z": [
          -0.3821629225113812,
          -1.481151083993018,
          1.1637142706139922,
          0.21263737466129004,
          0.7834062728070791,
          0.7451467047770922,
          -0.13760325782513205,
          0.042733684279884984,
          -0.08620469470843331,
          0.043552392406860756,
          0.01173062565573213,
          0.4562598252628172,
          0.3177039938858481,
          -1.2874580040869321,
          -1.0404762267711583,
          0.04519758956837547,
          0.5857606134346478,
          1.2310790076954867,
          -2.107078727550867,
          0.046476886318448624,
          -0.23397420044332315,
          -0.47372786536055256,
          -0.06231291364302406,
          -1.0709735766412674,
          -0.33648348008451406,
          1.0689178884991468,
          -0.009740836659989515,
          0.1335437189983272,
          0.08845707859471759,
          -1.1059739669482136,
          0.1241438625132337,
          -0.9405769914541147,
          -0.45212509649183974,
          -0.31491667330617135,
          -0.6485597535534676,
          0.13596508866987134,
          -1.0057066287300584,
          -0.6120477326411596,
          -0.4558827585319891,
          -0.4143128678582698,
          0.6154296679349409,
          -1.7806528523190208,
          0.2752740816372347,
          2.3780429136242397e-16,
          -0.33869573819597226,
          -0.1545692946421988,
          0.4007853120162606,
          0.3597818455202901,
          0.4336563869200314,
          -0.07814988840009574,
          0.38402733431607516,
          2.3780429136242397e-16,
          1.2546224098869623,
          0.54474638015501,
          -0.11648071246660867,
          -0.44126139838880535,
          0.3670653909208512,
          -0.5226860562610484,
          2.3780429136242397e-16,
          0.4122399613573394,
          -0.3903805369377541,
          -0.16642898660523567,
          0.2215041872341742,
          0.1437148417366274,
          -0.21414723439740244,
          -1.6505739545606914,
          -1.9348898880223877,
          -0.5954799916193328,
          0.05986176017005947,
          -0.4878404066327402,
          0.6254507695084564,
          -0.3521736080388254,
          0.034680406749204154,
          0.06570294101698541,
          0.4521325066152088,
          -0.919641456947434
         ]
        },
        {
         "hovertemplate": "<b>%{hovertext}</b><br><br>cluster=Très Pauvres et très mal nourris<br>F1=%{x}<br>F2=%{y}<br>F3=%{z}<extra></extra>",
         "hovertext": [
          "Afghanistan",
          "Angola",
          "Bangladesh",
          "Îles Salomon",
          "Cameroun",
          "République centrafricaine",
          "Sri Lanka",
          "Tchad",
          "Congo",
          "Bénin",
          "Djibouti",
          "Gambie",
          "Ghana",
          "Guatemala",
          "Guinée",
          "Haïti",
          "Honduras",
          "Inde",
          "Indonésie",
          "Iraq",
          "Côte d'Ivoire",
          "Kenya",
          "Cambodge",
          "République populaire démocratique de Corée",
          "République démocratique populaire lao",
          "Lesotho",
          "Libéria",
          "Madagascar",
          "Malawi",
          "Mozambique",
          "Namibie",
          "Népal",
          "Nicaragua",
          "Niger",
          "Nigéria",
          "Guinée-Bissau",
          "Timor-Leste",
          "Zimbabwe",
          "Rwanda",
          "Sao Tomé-et-Principe",
          "Sénégal",
          "Sierra Leone",
          "Tadjikistan",
          "Eswatini",
          "République-Unie de Tanzanie",
          "Togo",
          "Ouganda",
          "Burkina Faso",
          "Éthiopie",
          "Yémen",
          "Zambie"
         ],
         "legendgroup": "Très Pauvres et très mal nourris",
         "marker": {
          "color": "#EF553B",
          "opacity": 0.8,
          "symbol": "circle"
         },
         "mode": "markers",
         "name": "Très Pauvres et très mal nourris",
         "scene": "scene",
         "showlegend": true,
         "type": "scatter3d",
         "x": [
          -2.648006651458715,
          -1.8832339286722235,
          -2.12210264200044,
          -1.9430534451104828,
          -1.7381413943336774,
          -2.5705804771004908,
          -1.5303711328915148,
          -2.7347431510133284,
          -1.9453823509887722,
          -1.8603750491528532,
          -1.5343767259560879,
          -1.9542791750926556,
          -1.1424476962565397,
          -1.797667859687291,
          -2.1946081311999825,
          -2.6845255447594805,
          -1.2221982939774798,
          -1.9588967131504285,
          -1.2247271084484757,
          -1.8226476064070791,
          -1.5707219566601627,
          -2.2407527955720505,
          -1.549416303582406,
          -2.4652223269821922,
          -1.753476959896046,
          -1.5267767642815324,
          -3.117854655250697,
          -2.990868062067958,
          -2.4595046286232547,
          -2.947658092252523,
          -1.8649929042346391,
          -1.5714394881887501,
          -1.1610694344327936,
          -1.7715349901961286,
          -1.897922221739389,
          -2.7302391600027818,
          -2.16346451932119,
          -2.4935265174363592,
          -2.8260657134204603,
          -2.123472731116103,
          -2.0546836465875935,
          -2.1359641978555275,
          -1.9030216668109003,
          -1.7828361888215936,
          -2.6445490528214526,
          -2.3357844542806645,
          -2.7772523826936966,
          -1.590215443050831,
          -2.7773997034202424,
          -2.329660954261704,
          -3.038155983174258
         ],
         "y": [
          0.4355212248127968,
          0.8946162194787999,
          -0.48529419540428254,
          0.1133683472621901,
          0.5382890020169203,
          -0.4148940743895364,
          -0.6441899845447414,
          0.8050556970048246,
          0.3272670035541823,
          0.7322777514117956,
          -0.24076337038519827,
          0.8271789058195712,
          0.45182766384272716,
          0.3415141318761919,
          0.3254970347620889,
          -0.5377853941772648,
          0.007159589751518126,
          -0.3656962657786627,
          -0.2931573538885779,
          0.5826934021914559,
          -0.014227130680589303,
          0.3923312274077356,
          -0.2672066205830552,
          -0.9192947069306675,
          -0.0012499539071427076,
          -0.5281830421969441,
          0.6108198981712332,
          0.39470235779267954,
          0.6787784881648048,
          0.34635400790207244,
          -0.3879348949493115,
          -0.3079013797565062,
          -0.3400670991302098,
          1.3983758686798913,
          0.6370516257416936,
          0.042919812283667036,
          -0.17843426847497212,
          -0.6972298564750651,
          0.3785857988145053,
          0.3884540735668485,
          0.5147997682994978,
          0.31053481600692945,
          0.0740991376838573,
          -0.40700634504555777,
          0.5855379730816542,
          0.44362549207076124,
          0.8052396451758966,
          0.8522622873916008,
          0.43900161499335133,
          0.24411007183536942,
          0.4947752636585609
         ],
         "z": [
          0.3788222057704106,
          0.3084378152849736,
          -0.05406667533352592,
          0.36245003538597986,
          -0.6817512727463659,
          1.3572538415820241,
          0.10934955728285828,
          0.10766139245860391,
          1.0539706703988043,
          -0.39306404195218286,
          -0.27796987174054105,
          -0.3325107628932477,
          -0.7236879362184296,
          0.13033317283610296,
          -0.26092634024426165,
          0.6575923426212249,
          0.015091614336929871,
          -0.0660980387578416,
          -0.23800455363283005,
          -0.12379439286254827,
          -0.40358248334686864,
          0.30516442990757464,
          0.018705120168970604,
          0.45659655158568524,
          -0.22248724553548307,
          -0.48715984297024356,
          0.6200223985231039,
          0.6527413062970466,
          -0.3550546797938258,
          0.19031017346975257,
          0.8356355077796193,
          -0.6369624559218245,
          -0.20059677634287046,
          -0.7845914865930541,
          -0.5968692532239085,
          0.3992428456238378,
          0.6605479123664179,
          0.7257228630412255,
          -0.05502760400015989,
          0.3492387283511448,
          0.06493232973928792,
          0.17602299609592878,
          0.5084395727526205,
          0.4730922552535587,
          0.15189320344961624,
          -0.2630726718818744,
          0.48229273547124835,
          -1.0379529126361435,
          0.0628706765234612,
          0.30538259449677907,
          0.5646079903517423
         ]
        },
        {
         "hovertemplate": "<b>%{hovertext}</b><br><br>cluster=Riches et bien nourris<br>F1=%{x}<br>F2=%{y}<br>F3=%{z}<extra></extra>",
         "hovertext": [
          "Albanie",
          "Argentine",
          "Bahamas",
          "Brésil",
          "Brunéi Darussalam",
          "Chypre",
          "Bélarus",
          "Estonie",
          "Polynésie française",
          "Grèce",
          "Kazakhstan",
          "Japon",
          "République de Corée",
          "Lettonie",
          "Lituanie",
          "Maldives",
          "Malte",
          "Nouvelle-Calédonie",
          "Nouvelle-Zélande",
          "Tchéquie (la)",
          "Pologne",
          "Portugal",
          "Roumanie",
          "Fédération de Russie",
          "Slovénie",
          "Espagne",
          "Monténégro"
         ],
         "legendgroup": "Riches et bien nourris",
         "marker": {
          "color": "#00cc96",
          "opacity": 0.8,
          "symbol": "circle"
         },
         "mode": "markers",
         "name": "Riches et bien nourris",
         "scene": "scene",
         "showlegend": true,
         "type": "scatter3d",
         "x": [
          1.5624238436529898,
          1.8044304598889425,
          0.9064879559385881,
          1.2777398243486542,
          1.553802989575233,
          0.4647987999812728,
          1.429415583907674,
          1.706689578697137,
          1.4648147918268024,
          2.1077609816792955,
          1.449857163430237,
          1.1942328986185269,
          1.546535175924722,
          1.4182057974095015,
          2.7723024775598715,
          1.6380043358261498,
          2.1657615337142877,
          1.229098046686162,
          1.8063394972064086,
          1.3759708052291464,
          1.745382184983152,
          2.42212413132437,
          1.4175753448187816,
          1.8100180759761493,
          1.4770568674694158,
          1.9845659432157443,
          1.8368004297657192
         ],
         "y": [
          -0.9283780173867254,
          -0.2961749813970246,
          0.24433068093259208,
          -0.24433593956378596,
          0.6380794000713389,
          -0.03827599024490645,
          -1.1140718428061918,
          -0.7863664043319116,
          -0.16103793119377263,
          -0.4425659060480388,
          -0.1714401546234812,
          -0.44516329457880344,
          -0.1449287201051967,
          -1.3237682411403267,
          -1.1136782380593557,
          0.10524961283046681,
          -0.2496668334864361,
          0.314114028646176,
          0.2939365283014507,
          -0.4546677453986126,
          -0.6550839976179167,
          -0.42513012721537524,
          -0.806757500727936,
          -0.7143507668841611,
          -0.3803200009651466,
          0.10557474370563505,
          0.11526106443437956
         ],
         "z": [
          -0.9790665834482565,
          -0.2791425189773587,
          1.1512809525961003,
          -0.513496256833612,
          0.8428798137820885,
          1.1376576581535967,
          -0.4597085626821176,
          -0.5194328946496256,
          0.4479581458765454,
          -0.6482334801017774,
          -0.39291752975205707,
          1.1766616672781822,
          -0.3702482224225941,
          -0.16460220208145826,
          -0.9499236021909039,
          -0.1210631310393422,
          -0.5791743355596931,
          1.0609210255534116,
          0.6809950850721893,
          -0.046704323046403935,
          -0.8830848016283672,
          -0.6468260437705023,
          -1.0894635322912776,
          -0.6640138205489061,
          -0.09899640401412547,
          0.0777854419037509,
          -1.2821087336423596
         ]
        },
        {
         "hovertemplate": "<b>%{hovertext}</b><br><br>cluster=Très Riches et très bien nourris<br>F1=%{x}<br>F2=%{y}<br>F3=%{z}<extra></extra>",
         "hovertext": [
          "Australie",
          "Autriche",
          "Bermudes",
          "Canada",
          "Danemark",
          "Finlande",
          "France",
          "Allemagne",
          "Islande",
          "Irlande",
          "Israël",
          "Italie",
          "Pays-Bas",
          "Norvège",
          "Suède",
          "Suisse",
          "Royaume-Uni",
          "États-Unis d'Amérique",
          "Belgique",
          "Luxembourg"
         ],
         "legendgroup": "Très Riches et très bien nourris",
         "marker": {
          "color": "#ab63fa",
          "opacity": 0.8,
          "symbol": "circle"
         },
         "mode": "markers",
         "name": "Très Riches et très bien nourris",
         "scene": "scene",
         "showlegend": true,
         "type": "scatter3d",
         "x": [
          3.0459489255285126,
          3.176297997352773,
          2.8360890170083057,
          2.569203145414965,
          3.163836413553344,
          3.101853909321674,
          2.8793377049311455,
          2.7664779552522822,
          3.7047246334610797,
          2.9612513504495084,
          2.9999094023072765,
          2.5183664986738408,
          3.0015832469264025,
          4.035658624028945,
          2.9347915234034505,
          3.27093581138624,
          2.4368399760079402,
          3.2963815015157576,
          2.823990380131259,
          4.426725674853493
         ],
         "y": [
          1.028236785827952,
          0.26822223726037403,
          0.5740134376455751,
          0.6481929487576003,
          0.3359926933798717,
          0.1962416069301519,
          0.16321482585358066,
          -0.20239369038248334,
          0.7096815915772119,
          0.8501348391266188,
          1.0729637064988053,
          0.07525656326974758,
          0.10988519399990705,
          1.459527051818389,
          0.4105230531578318,
          1.0500087727760516,
          0.13054788024553812,
          0.5392675095344989,
          0.29907404831981793,
          2.0677161162495588
         ],
         "z": [
          1.1379438303052953,
          -0.149270275068336,
          3.2737351027726573,
          0.06845971277680818,
          0.7732956305649547,
          0.22117855726123745,
          0.0037151014397104978,
          0.22314852479142075,
          0.1192576408240665,
          -0.007175723933177645,
          -0.8629332511341908,
          -0.5284949191984457,
          0.7491020051475726,
          1.6712768769821857,
          1.0771919948829844,
          1.8206789344700138,
          0.061439432961262225,
          0.08972714021577292,
          -0.10429180754536585,
          1.9364397450356552
         ]
        },
        {
         "hovertemplate": "<b>%{hovertext}</b><br><br>cluster=Émirats arabes unis<br>F1=%{x}<br>F2=%{y}<br>F3=%{z}<extra></extra>",
         "hovertext": [
          "Émirats arabes unis"
         ],
         "legendgroup": "Émirats arabes unis",
         "marker": {
          "color": "#FFA15A",
          "opacity": 0.8,
          "symbol": "circle"
         },
         "mode": "markers",
         "name": "Émirats arabes unis",
         "scene": "scene",
         "showlegend": true,
         "type": "scatter3d",
         "x": [
          -0.4821400360647154
         ],
         "y": [
          9.169299767504123
         ],
         "z": [
          -0.8351514037738457
         ]
        }
       ],
       "layout": {
        "legend": {
         "title": {
          "text": "cluster"
         },
         "tracegroupgap": 0
        },
        "scene": {
         "domain": {
          "x": [
           0,
           1
          ],
          "y": [
           0,
           1
          ]
         },
         "xaxis": {
          "title": {
           "text": "F1"
          }
         },
         "yaxis": {
          "title": {
           "text": "F2"
          }
         },
         "zaxis": {
          "title": {
           "text": "F3"
          }
         }
        },
        "template": {
         "data": {
          "bar": [
           {
            "error_x": {
             "color": "#2a3f5f"
            },
            "error_y": {
             "color": "#2a3f5f"
            },
            "marker": {
             "line": {
              "color": "#E5ECF6",
              "width": 0.5
             },
             "pattern": {
              "fillmode": "overlay",
              "size": 10,
              "solidity": 0.2
             }
            },
            "type": "bar"
           }
          ],
          "barpolar": [
           {
            "marker": {
             "line": {
              "color": "#E5ECF6",
              "width": 0.5
             },
             "pattern": {
              "fillmode": "overlay",
              "size": 10,
              "solidity": 0.2
             }
            },
            "type": "barpolar"
           }
          ],
          "carpet": [
           {
            "aaxis": {
             "endlinecolor": "#2a3f5f",
             "gridcolor": "white",
             "linecolor": "white",
             "minorgridcolor": "white",
             "startlinecolor": "#2a3f5f"
            },
            "baxis": {
             "endlinecolor": "#2a3f5f",
             "gridcolor": "white",
             "linecolor": "white",
             "minorgridcolor": "white",
             "startlinecolor": "#2a3f5f"
            },
            "type": "carpet"
           }
          ],
          "choropleth": [
           {
            "colorbar": {
             "outlinewidth": 0,
             "ticks": ""
            },
            "type": "choropleth"
           }
          ],
          "contour": [
           {
            "colorbar": {
             "outlinewidth": 0,
             "ticks": ""
            },
            "colorscale": [
             [
              0,
              "#0d0887"
             ],
             [
              0.1111111111111111,
              "#46039f"
             ],
             [
              0.2222222222222222,
              "#7201a8"
             ],
             [
              0.3333333333333333,
              "#9c179e"
             ],
             [
              0.4444444444444444,
              "#bd3786"
             ],
             [
              0.5555555555555556,
              "#d8576b"
             ],
             [
              0.6666666666666666,
              "#ed7953"
             ],
             [
              0.7777777777777778,
              "#fb9f3a"
             ],
             [
              0.8888888888888888,
              "#fdca26"
             ],
             [
              1,
              "#f0f921"
             ]
            ],
            "type": "contour"
           }
          ],
          "contourcarpet": [
           {
            "colorbar": {
             "outlinewidth": 0,
             "ticks": ""
            },
            "type": "contourcarpet"
           }
          ],
          "heatmap": [
           {
            "colorbar": {
             "outlinewidth": 0,
             "ticks": ""
            },
            "colorscale": [
             [
              0,
              "#0d0887"
             ],
             [
              0.1111111111111111,
              "#46039f"
             ],
             [
              0.2222222222222222,
              "#7201a8"
             ],
             [
              0.3333333333333333,
              "#9c179e"
             ],
             [
              0.4444444444444444,
              "#bd3786"
             ],
             [
              0.5555555555555556,
              "#d8576b"
             ],
             [
              0.6666666666666666,
              "#ed7953"
             ],
             [
              0.7777777777777778,
              "#fb9f3a"
             ],
             [
              0.8888888888888888,
              "#fdca26"
             ],
             [
              1,
              "#f0f921"
             ]
            ],
            "type": "heatmap"
           }
          ],
          "heatmapgl": [
           {
            "colorbar": {
             "outlinewidth": 0,
             "ticks": ""
            },
            "colorscale": [
             [
              0,
              "#0d0887"
             ],
             [
              0.1111111111111111,
              "#46039f"
             ],
             [
              0.2222222222222222,
              "#7201a8"
             ],
             [
              0.3333333333333333,
              "#9c179e"
             ],
             [
              0.4444444444444444,
              "#bd3786"
             ],
             [
              0.5555555555555556,
              "#d8576b"
             ],
             [
              0.6666666666666666,
              "#ed7953"
             ],
             [
              0.7777777777777778,
              "#fb9f3a"
             ],
             [
              0.8888888888888888,
              "#fdca26"
             ],
             [
              1,
              "#f0f921"
             ]
            ],
            "type": "heatmapgl"
           }
          ],
          "histogram": [
           {
            "marker": {
             "pattern": {
              "fillmode": "overlay",
              "size": 10,
              "solidity": 0.2
             }
            },
            "type": "histogram"
           }
          ],
          "histogram2d": [
           {
            "colorbar": {
             "outlinewidth": 0,
             "ticks": ""
            },
            "colorscale": [
             [
              0,
              "#0d0887"
             ],
             [
              0.1111111111111111,
              "#46039f"
             ],
             [
              0.2222222222222222,
              "#7201a8"
             ],
             [
              0.3333333333333333,
              "#9c179e"
             ],
             [
              0.4444444444444444,
              "#bd3786"
             ],
             [
              0.5555555555555556,
              "#d8576b"
             ],
             [
              0.6666666666666666,
              "#ed7953"
             ],
             [
              0.7777777777777778,
              "#fb9f3a"
             ],
             [
              0.8888888888888888,
              "#fdca26"
             ],
             [
              1,
              "#f0f921"
             ]
            ],
            "type": "histogram2d"
           }
          ],
          "histogram2dcontour": [
           {
            "colorbar": {
             "outlinewidth": 0,
             "ticks": ""
            },
            "colorscale": [
             [
              0,
              "#0d0887"
             ],
             [
              0.1111111111111111,
              "#46039f"
             ],
             [
              0.2222222222222222,
              "#7201a8"
             ],
             [
              0.3333333333333333,
              "#9c179e"
             ],
             [
              0.4444444444444444,
              "#bd3786"
             ],
             [
              0.5555555555555556,
              "#d8576b"
             ],
             [
              0.6666666666666666,
              "#ed7953"
             ],
             [
              0.7777777777777778,
              "#fb9f3a"
             ],
             [
              0.8888888888888888,
              "#fdca26"
             ],
             [
              1,
              "#f0f921"
             ]
            ],
            "type": "histogram2dcontour"
           }
          ],
          "mesh3d": [
           {
            "colorbar": {
             "outlinewidth": 0,
             "ticks": ""
            },
            "type": "mesh3d"
           }
          ],
          "parcoords": [
           {
            "line": {
             "colorbar": {
              "outlinewidth": 0,
              "ticks": ""
             }
            },
            "type": "parcoords"
           }
          ],
          "pie": [
           {
            "automargin": true,
            "type": "pie"
           }
          ],
          "scatter": [
           {
            "marker": {
             "colorbar": {
              "outlinewidth": 0,
              "ticks": ""
             }
            },
            "type": "scatter"
           }
          ],
          "scatter3d": [
           {
            "line": {
             "colorbar": {
              "outlinewidth": 0,
              "ticks": ""
             }
            },
            "marker": {
             "colorbar": {
              "outlinewidth": 0,
              "ticks": ""
             }
            },
            "type": "scatter3d"
           }
          ],
          "scattercarpet": [
           {
            "marker": {
             "colorbar": {
              "outlinewidth": 0,
              "ticks": ""
             }
            },
            "type": "scattercarpet"
           }
          ],
          "scattergeo": [
           {
            "marker": {
             "colorbar": {
              "outlinewidth": 0,
              "ticks": ""
             }
            },
            "type": "scattergeo"
           }
          ],
          "scattergl": [
           {
            "marker": {
             "colorbar": {
              "outlinewidth": 0,
              "ticks": ""
             }
            },
            "type": "scattergl"
           }
          ],
          "scattermapbox": [
           {
            "marker": {
             "colorbar": {
              "outlinewidth": 0,
              "ticks": ""
             }
            },
            "type": "scattermapbox"
           }
          ],
          "scatterpolar": [
           {
            "marker": {
             "colorbar": {
              "outlinewidth": 0,
              "ticks": ""
             }
            },
            "type": "scatterpolar"
           }
          ],
          "scatterpolargl": [
           {
            "marker": {
             "colorbar": {
              "outlinewidth": 0,
              "ticks": ""
             }
            },
            "type": "scatterpolargl"
           }
          ],
          "scatterternary": [
           {
            "marker": {
             "colorbar": {
              "outlinewidth": 0,
              "ticks": ""
             }
            },
            "type": "scatterternary"
           }
          ],
          "surface": [
           {
            "colorbar": {
             "outlinewidth": 0,
             "ticks": ""
            },
            "colorscale": [
             [
              0,
              "#0d0887"
             ],
             [
              0.1111111111111111,
              "#46039f"
             ],
             [
              0.2222222222222222,
              "#7201a8"
             ],
             [
              0.3333333333333333,
              "#9c179e"
             ],
             [
              0.4444444444444444,
              "#bd3786"
             ],
             [
              0.5555555555555556,
              "#d8576b"
             ],
             [
              0.6666666666666666,
              "#ed7953"
             ],
             [
              0.7777777777777778,
              "#fb9f3a"
             ],
             [
              0.8888888888888888,
              "#fdca26"
             ],
             [
              1,
              "#f0f921"
             ]
            ],
            "type": "surface"
           }
          ],
          "table": [
           {
            "cells": {
             "fill": {
              "color": "#EBF0F8"
             },
             "line": {
              "color": "white"
             }
            },
            "header": {
             "fill": {
              "color": "#C8D4E3"
             },
             "line": {
              "color": "white"
             }
            },
            "type": "table"
           }
          ]
         },
         "layout": {
          "annotationdefaults": {
           "arrowcolor": "#2a3f5f",
           "arrowhead": 0,
           "arrowwidth": 1
          },
          "autotypenumbers": "strict",
          "coloraxis": {
           "colorbar": {
            "outlinewidth": 0,
            "ticks": ""
           }
          },
          "colorscale": {
           "diverging": [
            [
             0,
             "#8e0152"
            ],
            [
             0.1,
             "#c51b7d"
            ],
            [
             0.2,
             "#de77ae"
            ],
            [
             0.3,
             "#f1b6da"
            ],
            [
             0.4,
             "#fde0ef"
            ],
            [
             0.5,
             "#f7f7f7"
            ],
            [
             0.6,
             "#e6f5d0"
            ],
            [
             0.7,
             "#b8e186"
            ],
            [
             0.8,
             "#7fbc41"
            ],
            [
             0.9,
             "#4d9221"
            ],
            [
             1,
             "#276419"
            ]
           ],
           "sequential": [
            [
             0,
             "#0d0887"
            ],
            [
             0.1111111111111111,
             "#46039f"
            ],
            [
             0.2222222222222222,
             "#7201a8"
            ],
            [
             0.3333333333333333,
             "#9c179e"
            ],
            [
             0.4444444444444444,
             "#bd3786"
            ],
            [
             0.5555555555555556,
             "#d8576b"
            ],
            [
             0.6666666666666666,
             "#ed7953"
            ],
            [
             0.7777777777777778,
             "#fb9f3a"
            ],
            [
             0.8888888888888888,
             "#fdca26"
            ],
            [
             1,
             "#f0f921"
            ]
           ],
           "sequentialminus": [
            [
             0,
             "#0d0887"
            ],
            [
             0.1111111111111111,
             "#46039f"
            ],
            [
             0.2222222222222222,
             "#7201a8"
            ],
            [
             0.3333333333333333,
             "#9c179e"
            ],
            [
             0.4444444444444444,
             "#bd3786"
            ],
            [
             0.5555555555555556,
             "#d8576b"
            ],
            [
             0.6666666666666666,
             "#ed7953"
            ],
            [
             0.7777777777777778,
             "#fb9f3a"
            ],
            [
             0.8888888888888888,
             "#fdca26"
            ],
            [
             1,
             "#f0f921"
            ]
           ]
          },
          "colorway": [
           "#636efa",
           "#EF553B",
           "#00cc96",
           "#ab63fa",
           "#FFA15A",
           "#19d3f3",
           "#FF6692",
           "#B6E880",
           "#FF97FF",
           "#FECB52"
          ],
          "font": {
           "color": "#2a3f5f"
          },
          "geo": {
           "bgcolor": "white",
           "lakecolor": "white",
           "landcolor": "#E5ECF6",
           "showlakes": true,
           "showland": true,
           "subunitcolor": "white"
          },
          "hoverlabel": {
           "align": "left"
          },
          "hovermode": "closest",
          "mapbox": {
           "style": "light"
          },
          "paper_bgcolor": "white",
          "plot_bgcolor": "#E5ECF6",
          "polar": {
           "angularaxis": {
            "gridcolor": "white",
            "linecolor": "white",
            "ticks": ""
           },
           "bgcolor": "#E5ECF6",
           "radialaxis": {
            "gridcolor": "white",
            "linecolor": "white",
            "ticks": ""
           }
          },
          "scene": {
           "xaxis": {
            "backgroundcolor": "#E5ECF6",
            "gridcolor": "white",
            "gridwidth": 2,
            "linecolor": "white",
            "showbackground": true,
            "ticks": "",
            "zerolinecolor": "white"
           },
           "yaxis": {
            "backgroundcolor": "#E5ECF6",
            "gridcolor": "white",
            "gridwidth": 2,
            "linecolor": "white",
            "showbackground": true,
            "ticks": "",
            "zerolinecolor": "white"
           },
           "zaxis": {
            "backgroundcolor": "#E5ECF6",
            "gridcolor": "white",
            "gridwidth": 2,
            "linecolor": "white",
            "showbackground": true,
            "ticks": "",
            "zerolinecolor": "white"
           }
          },
          "shapedefaults": {
           "line": {
            "color": "#2a3f5f"
           }
          },
          "ternary": {
           "aaxis": {
            "gridcolor": "white",
            "linecolor": "white",
            "ticks": ""
           },
           "baxis": {
            "gridcolor": "white",
            "linecolor": "white",
            "ticks": ""
           },
           "bgcolor": "#E5ECF6",
           "caxis": {
            "gridcolor": "white",
            "linecolor": "white",
            "ticks": ""
           }
          },
          "title": {
           "x": 0.05
          },
          "xaxis": {
           "automargin": true,
           "gridcolor": "white",
           "linecolor": "white",
           "ticks": "",
           "title": {
            "standoff": 15
           },
           "zerolinecolor": "white",
           "zerolinewidth": 2
          },
          "yaxis": {
           "automargin": true,
           "gridcolor": "white",
           "linecolor": "white",
           "ticks": "",
           "title": {
            "standoff": 15
           },
           "zerolinecolor": "white",
           "zerolinewidth": 2
          }
         }
        },
        "title": {
         "text": "Projection des pays sur F1, F2 et F3"
        },
        "width": 800
       }
      }
     },
     "metadata": {},
     "output_type": "display_data"
    }
   ],
   "source": [
    "fig = px.scatter_3d(df_data, x=\"F1\", y=\"F2\", z=\"F3\", hover_name=\"Country\", color='cluster', opacity=0.8, title=\"Projection des pays sur F1, F2 et F3\", width=800)\n",
    "fig.show()"
   ]
  },
  {
   "cell_type": "markdown",
   "metadata": {
    "id": "EwkFqC-68aaY"
   },
   "source": [
    "# Interprétations"
   ]
  },
  {
   "cell_type": "markdown",
   "metadata": {
    "id": "E7EdYN578j42"
   },
   "source": [
    "La première composante permet de bien résumer nos trois indicateurs liés à la nutrition. On peut donc considérer que plus sa valeur est grande pour un pays donné, plus ce pays est consommateur de nourriture.\n",
    "\n",
    "La deuxième composante n'est quasiment liée qu'à l'évolution de la population. Considérons qu'une population qui évolue positivement est une population en bonne santé, bien nourrie.\n",
    "\n",
    "La troisième composante fait le lien entre richesse (par habitant) et ratio de protèine par habitant. Cette dimension nous permet de juger de la richesse financière et alimentaire d'un pays.\n",
    "\n",
    "D'ailleurs, le classement hierarchique fait ressortir des groupes dans ce sens là.\n",
    "\n",
    "Entre deux groupes \"proches\", la dimension qui permet de les différencier est l'évolution de la population."
   ]
  },
  {
   "cell_type": "markdown",
   "metadata": {
    "id": "ytHwzuzgYbSs"
   },
   "source": [
    "# Export des centroïds"
   ]
  },
  {
   "cell_type": "code",
   "execution_count": 78,
   "metadata": {
    "colab": {
     "base_uri": "https://localhost:8080/",
     "height": 584
    },
    "executionInfo": {
     "elapsed": 155,
     "status": "ok",
     "timestamp": 1644511351133,
     "user": {
      "displayName": "Kevin Simon",
      "photoUrl": "https://lh3.googleusercontent.com/a-/AOh14Gg3FCABvilRbklDg4_wqSKqwlKXtHBhg3_Xddf997I=s64",
      "userId": "05485721485209418304"
     },
     "user_tz": -60
    },
    "id": "-1J8mMklbg4D",
    "outputId": "169c0852-86ce-42a6-f593-25f40bbc798d"
   },
   "outputs": [
    {
     "data": {
      "text/html": [
       "<div>\n",
       "<style scoped>\n",
       "    .dataframe tbody tr th:only-of-type {\n",
       "        vertical-align: middle;\n",
       "    }\n",
       "\n",
       "    .dataframe tbody tr th {\n",
       "        vertical-align: top;\n",
       "    }\n",
       "\n",
       "    .dataframe thead th {\n",
       "        text-align: right;\n",
       "    }\n",
       "</style>\n",
       "<table border=\"1\" class=\"dataframe\">\n",
       "  <thead>\n",
       "    <tr style=\"text-align: right;\">\n",
       "      <th></th>\n",
       "      <th>pop_evol (%)</th>\n",
       "      <th>PIB 2013</th>\n",
       "      <th>kcal_total_capita_day</th>\n",
       "      <th>proteins_total_capita_day</th>\n",
       "      <th>proteins_animal_ratio</th>\n",
       "    </tr>\n",
       "  </thead>\n",
       "  <tbody>\n",
       "    <tr>\n",
       "      <th>Très pauvres et très mal nourris</th>\n",
       "      <td>0.556166</td>\n",
       "      <td>-0.634360</td>\n",
       "      <td>-1.057342</td>\n",
       "      <td>-1.104689</td>\n",
       "      <td>-1.220333</td>\n",
       "    </tr>\n",
       "    <tr>\n",
       "      <th>Émirats arabes unis</th>\n",
       "      <td>9.190085</td>\n",
       "      <td>1.378135</td>\n",
       "      <td>0.990441</td>\n",
       "      <td>1.209197</td>\n",
       "      <td>-0.162607</td>\n",
       "    </tr>\n",
       "    <tr>\n",
       "      <th>Très riches et très bien nourris</th>\n",
       "      <td>-0.407104</td>\n",
       "      <td>2.255027</td>\n",
       "      <td>1.365960</td>\n",
       "      <td>1.423315</td>\n",
       "      <td>1.225956</td>\n",
       "    </tr>\n",
       "    <tr>\n",
       "      <th>Riches et bien nourris</th>\n",
       "      <td>-0.581975</td>\n",
       "      <td>0.322571</td>\n",
       "      <td>0.743204</td>\n",
       "      <td>0.968286</td>\n",
       "      <td>0.954640</td>\n",
       "    </tr>\n",
       "    <tr>\n",
       "      <th>Pauvres et mal nourris</th>\n",
       "      <td>-0.180252</td>\n",
       "      <td>-0.300470</td>\n",
       "      <td>0.073004</td>\n",
       "      <td>0.006841</td>\n",
       "      <td>0.159279</td>\n",
       "    </tr>\n",
       "  </tbody>\n",
       "</table>\n",
       "</div>"
      ],
      "text/plain": [
       "                                  pop_evol (%)  PIB 2013  \\\n",
       "Très pauvres et très mal nourris      0.556166 -0.634360   \n",
       "Émirats arabes unis                   9.190085  1.378135   \n",
       "Très riches et très bien nourris     -0.407104  2.255027   \n",
       "Riches et bien nourris               -0.581975  0.322571   \n",
       "Pauvres et mal nourris               -0.180252 -0.300470   \n",
       "\n",
       "                                  kcal_total_capita_day  \\\n",
       "Très pauvres et très mal nourris              -1.057342   \n",
       "Émirats arabes unis                            0.990441   \n",
       "Très riches et très bien nourris               1.365960   \n",
       "Riches et bien nourris                         0.743204   \n",
       "Pauvres et mal nourris                         0.073004   \n",
       "\n",
       "                                  proteins_total_capita_day  \\\n",
       "Très pauvres et très mal nourris                  -1.104689   \n",
       "Émirats arabes unis                                1.209197   \n",
       "Très riches et très bien nourris                   1.423315   \n",
       "Riches et bien nourris                             0.968286   \n",
       "Pauvres et mal nourris                             0.006841   \n",
       "\n",
       "                                  proteins_animal_ratio  \n",
       "Très pauvres et très mal nourris              -1.220333  \n",
       "Émirats arabes unis                           -0.162607  \n",
       "Très riches et très bien nourris               1.225956  \n",
       "Riches et bien nourris                         0.954640  \n",
       "Pauvres et mal nourris                         0.159279  "
      ]
     },
     "metadata": {},
     "output_type": "display_data"
    },
    {
     "data": {
      "text/html": [
       "<div>\n",
       "<style scoped>\n",
       "    .dataframe tbody tr th:only-of-type {\n",
       "        vertical-align: middle;\n",
       "    }\n",
       "\n",
       "    .dataframe tbody tr th {\n",
       "        vertical-align: top;\n",
       "    }\n",
       "\n",
       "    .dataframe thead th {\n",
       "        text-align: right;\n",
       "    }\n",
       "</style>\n",
       "<table border=\"1\" class=\"dataframe\">\n",
       "  <thead>\n",
       "    <tr style=\"text-align: right;\">\n",
       "      <th></th>\n",
       "      <th>F1</th>\n",
       "      <th>F2</th>\n",
       "      <th>F3</th>\n",
       "      <th>F4</th>\n",
       "    </tr>\n",
       "  </thead>\n",
       "  <tbody>\n",
       "    <tr>\n",
       "      <th>Très pauvres et très mal nourris</th>\n",
       "      <td>-1.405505</td>\n",
       "      <td>2.730512</td>\n",
       "      <td>-0.454844</td>\n",
       "      <td>-0.034477</td>\n",
       "    </tr>\n",
       "    <tr>\n",
       "      <th>Émirats arabes unis</th>\n",
       "      <td>7.575742</td>\n",
       "      <td>-0.156789</td>\n",
       "      <td>0.055524</td>\n",
       "      <td>0.000049</td>\n",
       "    </tr>\n",
       "    <tr>\n",
       "      <th>Très riches et très bien nourris</th>\n",
       "      <td>-1.864239</td>\n",
       "      <td>-2.493795</td>\n",
       "      <td>-0.588652</td>\n",
       "      <td>0.012853</td>\n",
       "    </tr>\n",
       "    <tr>\n",
       "      <th>Riches et bien nourris</th>\n",
       "      <td>-2.284770</td>\n",
       "      <td>-0.815667</td>\n",
       "      <td>0.608612</td>\n",
       "      <td>-0.071115</td>\n",
       "    </tr>\n",
       "    <tr>\n",
       "      <th>Pauvres et mal nourris</th>\n",
       "      <td>-2.021228</td>\n",
       "      <td>0.735740</td>\n",
       "      <td>0.379360</td>\n",
       "      <td>0.092690</td>\n",
       "    </tr>\n",
       "  </tbody>\n",
       "</table>\n",
       "</div>"
      ],
      "text/plain": [
       "                                        F1        F2        F3        F4\n",
       "Très pauvres et très mal nourris -1.405505  2.730512 -0.454844 -0.034477\n",
       "Émirats arabes unis               7.575742 -0.156789  0.055524  0.000049\n",
       "Très riches et très bien nourris -1.864239 -2.493795 -0.588652  0.012853\n",
       "Riches et bien nourris           -2.284770 -0.815667  0.608612 -0.071115\n",
       "Pauvres et mal nourris           -2.021228  0.735740  0.379360  0.092690"
      ]
     },
     "metadata": {},
     "output_type": "display_data"
    },
    {
     "data": {
      "text/html": [
       "<div>\n",
       "<style scoped>\n",
       "    .dataframe tbody tr th:only-of-type {\n",
       "        vertical-align: middle;\n",
       "    }\n",
       "\n",
       "    .dataframe tbody tr th {\n",
       "        vertical-align: top;\n",
       "    }\n",
       "\n",
       "    .dataframe thead th {\n",
       "        text-align: right;\n",
       "    }\n",
       "</style>\n",
       "<table border=\"1\" class=\"dataframe\">\n",
       "  <thead>\n",
       "    <tr style=\"text-align: right;\">\n",
       "      <th></th>\n",
       "      <th>pop_evol (%)</th>\n",
       "      <th>PIB 2013</th>\n",
       "      <th>kcal_total_capita_day</th>\n",
       "      <th>proteins_total_capita_day</th>\n",
       "      <th>proteins_animal_ratio</th>\n",
       "      <th>F1</th>\n",
       "      <th>F2</th>\n",
       "      <th>F3</th>\n",
       "      <th>F4</th>\n",
       "    </tr>\n",
       "  </thead>\n",
       "  <tbody>\n",
       "    <tr>\n",
       "      <th>Très pauvres et très mal nourris</th>\n",
       "      <td>0.556166</td>\n",
       "      <td>-0.634360</td>\n",
       "      <td>-1.057342</td>\n",
       "      <td>-1.104689</td>\n",
       "      <td>-1.220333</td>\n",
       "      <td>-1.405505</td>\n",
       "      <td>2.730512</td>\n",
       "      <td>-0.454844</td>\n",
       "      <td>-0.034477</td>\n",
       "    </tr>\n",
       "    <tr>\n",
       "      <th>Émirats arabes unis</th>\n",
       "      <td>9.190085</td>\n",
       "      <td>1.378135</td>\n",
       "      <td>0.990441</td>\n",
       "      <td>1.209197</td>\n",
       "      <td>-0.162607</td>\n",
       "      <td>7.575742</td>\n",
       "      <td>-0.156789</td>\n",
       "      <td>0.055524</td>\n",
       "      <td>0.000049</td>\n",
       "    </tr>\n",
       "    <tr>\n",
       "      <th>Très riches et très bien nourris</th>\n",
       "      <td>-0.407104</td>\n",
       "      <td>2.255027</td>\n",
       "      <td>1.365960</td>\n",
       "      <td>1.423315</td>\n",
       "      <td>1.225956</td>\n",
       "      <td>-1.864239</td>\n",
       "      <td>-2.493795</td>\n",
       "      <td>-0.588652</td>\n",
       "      <td>0.012853</td>\n",
       "    </tr>\n",
       "    <tr>\n",
       "      <th>Riches et bien nourris</th>\n",
       "      <td>-0.581975</td>\n",
       "      <td>0.322571</td>\n",
       "      <td>0.743204</td>\n",
       "      <td>0.968286</td>\n",
       "      <td>0.954640</td>\n",
       "      <td>-2.284770</td>\n",
       "      <td>-0.815667</td>\n",
       "      <td>0.608612</td>\n",
       "      <td>-0.071115</td>\n",
       "    </tr>\n",
       "    <tr>\n",
       "      <th>Pauvres et mal nourris</th>\n",
       "      <td>-0.180252</td>\n",
       "      <td>-0.300470</td>\n",
       "      <td>0.073004</td>\n",
       "      <td>0.006841</td>\n",
       "      <td>0.159279</td>\n",
       "      <td>-2.021228</td>\n",
       "      <td>0.735740</td>\n",
       "      <td>0.379360</td>\n",
       "      <td>0.092690</td>\n",
       "    </tr>\n",
       "  </tbody>\n",
       "</table>\n",
       "</div>"
      ],
      "text/plain": [
       "                                  pop_evol (%)  PIB 2013  \\\n",
       "Très pauvres et très mal nourris      0.556166 -0.634360   \n",
       "Émirats arabes unis                   9.190085  1.378135   \n",
       "Très riches et très bien nourris     -0.407104  2.255027   \n",
       "Riches et bien nourris               -0.581975  0.322571   \n",
       "Pauvres et mal nourris               -0.180252 -0.300470   \n",
       "\n",
       "                                  kcal_total_capita_day  \\\n",
       "Très pauvres et très mal nourris              -1.057342   \n",
       "Émirats arabes unis                            0.990441   \n",
       "Très riches et très bien nourris               1.365960   \n",
       "Riches et bien nourris                         0.743204   \n",
       "Pauvres et mal nourris                         0.073004   \n",
       "\n",
       "                                  proteins_total_capita_day  \\\n",
       "Très pauvres et très mal nourris                  -1.104689   \n",
       "Émirats arabes unis                                1.209197   \n",
       "Très riches et très bien nourris                   1.423315   \n",
       "Riches et bien nourris                             0.968286   \n",
       "Pauvres et mal nourris                             0.006841   \n",
       "\n",
       "                                  proteins_animal_ratio        F1        F2  \\\n",
       "Très pauvres et très mal nourris              -1.220333 -1.405505  2.730512   \n",
       "Émirats arabes unis                           -0.162607  7.575742 -0.156789   \n",
       "Très riches et très bien nourris               1.225956 -1.864239 -2.493795   \n",
       "Riches et bien nourris                         0.954640 -2.284770 -0.815667   \n",
       "Pauvres et mal nourris                         0.159279 -2.021228  0.735740   \n",
       "\n",
       "                                        F3        F4  \n",
       "Très pauvres et très mal nourris -0.454844 -0.034477  \n",
       "Émirats arabes unis               0.055524  0.000049  \n",
       "Très riches et très bien nourris -0.588652  0.012853  \n",
       "Riches et bien nourris            0.608612 -0.071115  \n",
       "Pauvres et mal nourris            0.379360  0.092690  "
      ]
     },
     "metadata": {},
     "output_type": "display_data"
    }
   ],
   "source": [
    "# Scaled centroïds dataframe\n",
    "dfc1 = pd.DataFrame(centroids, columns=main_df.columns, index=centroids_names)\n",
    "display(dfc1)\n",
    "\n",
    "# Projected centroïds dataframe\n",
    "df_centroids_projected = [\n",
    "    'F1',\n",
    "    'F2',\n",
    "    'F3',\n",
    "    'F4'\n",
    "]\n",
    "dfc2 = pd.DataFrame(centroids_projected, columns=df_centroids_projected, index=centroids_names)\n",
    "display(dfc2)\n",
    "\n",
    "# Merging both\n",
    "dfc3 = dfc1.merge(dfc2, how='left', left_index=True, right_index=True)\n",
    "display(dfc3)\n",
    "\n",
    "# CSV export\n",
    "dfc3.to_csv('Livrables/centroids.csv')"
   ]
  },
  {
   "cell_type": "markdown",
   "metadata": {
    "id": "gzrPUG0t2RRJ"
   },
   "source": [
    "# Résumé des 5 groupes via la moyennes des variables"
   ]
  },
  {
   "cell_type": "code",
   "execution_count": 79,
   "metadata": {
    "colab": {
     "base_uri": "https://localhost:8080/",
     "height": 424
    },
    "executionInfo": {
     "elapsed": 594,
     "status": "ok",
     "timestamp": 1644511351583,
     "user": {
      "displayName": "Kevin Simon",
      "photoUrl": "https://lh3.googleusercontent.com/a-/AOh14Gg3FCABvilRbklDg4_wqSKqwlKXtHBhg3_Xddf997I=s64",
      "userId": "05485721485209418304"
     },
     "user_tz": -60
    },
    "id": "tbEca_NR2V6y",
    "outputId": "af7a63be-fd79-48b5-a219-5f44bc2a7875"
   },
   "outputs": [
    {
     "data": {
      "text/html": [
       "<div>\n",
       "<style scoped>\n",
       "    .dataframe tbody tr th:only-of-type {\n",
       "        vertical-align: middle;\n",
       "    }\n",
       "\n",
       "    .dataframe tbody tr th {\n",
       "        vertical-align: top;\n",
       "    }\n",
       "\n",
       "    .dataframe thead th {\n",
       "        text-align: right;\n",
       "    }\n",
       "</style>\n",
       "<table border=\"1\" class=\"dataframe\">\n",
       "  <thead>\n",
       "    <tr style=\"text-align: right;\">\n",
       "      <th></th>\n",
       "      <th>Country</th>\n",
       "      <th>cluster</th>\n",
       "    </tr>\n",
       "  </thead>\n",
       "  <tbody>\n",
       "    <tr>\n",
       "      <th>0</th>\n",
       "      <td>Arménie</td>\n",
       "      <td>Pauvres et mal nourris</td>\n",
       "    </tr>\n",
       "    <tr>\n",
       "      <th>1</th>\n",
       "      <td>Afghanistan</td>\n",
       "      <td>Très Pauvres et très mal nourris</td>\n",
       "    </tr>\n",
       "    <tr>\n",
       "      <th>2</th>\n",
       "      <td>Albanie</td>\n",
       "      <td>Riches et bien nourris</td>\n",
       "    </tr>\n",
       "    <tr>\n",
       "      <th>3</th>\n",
       "      <td>Algérie</td>\n",
       "      <td>Pauvres et mal nourris</td>\n",
       "    </tr>\n",
       "    <tr>\n",
       "      <th>4</th>\n",
       "      <td>Angola</td>\n",
       "      <td>Très Pauvres et très mal nourris</td>\n",
       "    </tr>\n",
       "    <tr>\n",
       "      <th>...</th>\n",
       "      <td>...</td>\n",
       "      <td>...</td>\n",
       "    </tr>\n",
       "    <tr>\n",
       "      <th>170</th>\n",
       "      <td>Luxembourg</td>\n",
       "      <td>Très Riches et très bien nourris</td>\n",
       "    </tr>\n",
       "    <tr>\n",
       "      <th>171</th>\n",
       "      <td>Serbie</td>\n",
       "      <td>Pauvres et mal nourris</td>\n",
       "    </tr>\n",
       "    <tr>\n",
       "      <th>172</th>\n",
       "      <td>Monténégro</td>\n",
       "      <td>Riches et bien nourris</td>\n",
       "    </tr>\n",
       "    <tr>\n",
       "      <th>173</th>\n",
       "      <td>Soudan</td>\n",
       "      <td>Pauvres et mal nourris</td>\n",
       "    </tr>\n",
       "    <tr>\n",
       "      <th>174</th>\n",
       "      <td>Chine</td>\n",
       "      <td>Pauvres et mal nourris</td>\n",
       "    </tr>\n",
       "  </tbody>\n",
       "</table>\n",
       "<p>175 rows × 2 columns</p>\n",
       "</div>"
      ],
      "text/plain": [
       "         Country                           cluster\n",
       "0        Arménie            Pauvres et mal nourris\n",
       "1    Afghanistan  Très Pauvres et très mal nourris\n",
       "2        Albanie            Riches et bien nourris\n",
       "3        Algérie            Pauvres et mal nourris\n",
       "4         Angola  Très Pauvres et très mal nourris\n",
       "..           ...                               ...\n",
       "170   Luxembourg  Très Riches et très bien nourris\n",
       "171       Serbie            Pauvres et mal nourris\n",
       "172   Monténégro            Riches et bien nourris\n",
       "173       Soudan            Pauvres et mal nourris\n",
       "174        Chine            Pauvres et mal nourris\n",
       "\n",
       "[175 rows x 2 columns]"
      ]
     },
     "metadata": {},
     "output_type": "display_data"
    }
   ],
   "source": [
    "\n",
    "df_cluster = df_data.drop(['pop_evol (%)','PIB 2013','kcal_total_capita_day','proteins_total_capita_day','proteins_animal_ratio','clusters','F1','F2','F3'],1,inplace=False)\n",
    "display(df_cluster)\n",
    "\n",
    "# We export countries and clusters in a CSV file\n",
    "pd.DataFrame(df_cluster).to_csv('Livrables/pays_clusters.csv')"
   ]
  },
  {
   "cell_type": "markdown",
   "metadata": {
    "id": "BySvfWjs3Ymb"
   },
   "source": [
    "# Interprétation\n",
    "Le groupe 3 (\"Très riches et très bien nourris\") performent sur toutes les variables liées à la nutrition et au PIB.\n",
    "Son évolution de population est d'environ 6,6%. Pour donner un ordre d'idée, la France est à environ 6,2%.\n",
    "\n",
    "On peut donc focus sur ce troisième groupe."
   ]
  },
  {
   "cell_type": "code",
   "execution_count": 80,
   "metadata": {
    "id": "zHfSuvUi3oea"
   },
   "outputs": [],
   "source": [
    "# We save the main_df with clusters in a file\n",
    "with open('Data/part2.pkl', 'wb') as f:\n",
    "    my_pickler = pickle.Pickler(f)\n",
    "    my_pickler.dump(df_data)"
   ]
  }
 ],
 "metadata": {
  "colab": {
   "collapsed_sections": [],
   "name": "Analyse.ipynb",
   "provenance": []
  },
  "interpreter": {
   "hash": "d5ecb1748f467b5d4777d690805f96544439de96e9f967607df4f074097c46db"
  },
  "kernelspec": {
   "display_name": "Python 3",
   "language": "python",
   "name": "python3"
  },
  "language_info": {
   "codemirror_mode": {
    "name": "ipython",
    "version": 3
   },
   "file_extension": ".py",
   "mimetype": "text/x-python",
   "name": "python",
   "nbconvert_exporter": "python",
   "pygments_lexer": "ipython3",
   "version": "3.8.8"
  }
 },
 "nbformat": 4,
 "nbformat_minor": 1
}
