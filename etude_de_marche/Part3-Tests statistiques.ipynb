{
 "cells": [
  {
   "cell_type": "code",
   "execution_count": 1,
   "metadata": {
    "executionInfo": {
     "elapsed": 621,
     "status": "ok",
     "timestamp": 1644514825815,
     "user": {
      "displayName": "Kevin Simon",
      "photoUrl": "https://lh3.googleusercontent.com/a-/AOh14Gg3FCABvilRbklDg4_wqSKqwlKXtHBhg3_Xddf997I=s64",
      "userId": "05485721485209418304"
     },
     "user_tz": -60
    },
    "id": "enJJC57S4xZO"
   },
   "outputs": [],
   "source": [
    "import numpy as np\n",
    "import pandas as pd\n",
    "import pickle\n",
    "from sklearn import decomposition\n",
    "from sklearn import preprocessing\n",
    "import matplotlib.pyplot as plt\n",
    "import scipy.stats as st\n",
    "import seaborn as sns\n",
    "\n",
    "\n",
    "import warnings\n",
    "warnings.filterwarnings('ignore')"
   ]
  },
  {
   "cell_type": "code",
   "execution_count": 2,
   "metadata": {
    "colab": {
     "base_uri": "https://localhost:8080/",
     "height": 206
    },
    "executionInfo": {
     "elapsed": 1318,
     "status": "ok",
     "timestamp": 1644514850729,
     "user": {
      "displayName": "Kevin Simon",
      "photoUrl": "https://lh3.googleusercontent.com/a-/AOh14Gg3FCABvilRbklDg4_wqSKqwlKXtHBhg3_Xddf997I=s64",
      "userId": "05485721485209418304"
     },
     "user_tz": -60
    },
    "id": "4bqMwD-p5dTP",
    "outputId": "4cd02fb3-8c3f-4235-b2a1-5460c36eaf11"
   },
   "outputs": [
    {
     "data": {
      "text/html": [
       "<div>\n",
       "<style scoped>\n",
       "    .dataframe tbody tr th:only-of-type {\n",
       "        vertical-align: middle;\n",
       "    }\n",
       "\n",
       "    .dataframe tbody tr th {\n",
       "        vertical-align: top;\n",
       "    }\n",
       "\n",
       "    .dataframe thead th {\n",
       "        text-align: right;\n",
       "    }\n",
       "</style>\n",
       "<table border=\"1\" class=\"dataframe\">\n",
       "  <thead>\n",
       "    <tr style=\"text-align: right;\">\n",
       "      <th></th>\n",
       "      <th>Country</th>\n",
       "      <th>pop_evol (%)</th>\n",
       "      <th>PIB 2013</th>\n",
       "      <th>kcal_total_capita_day</th>\n",
       "      <th>proteins_total_capita_day</th>\n",
       "      <th>proteins_animal_ratio</th>\n",
       "      <th>clusters</th>\n",
       "      <th>F1</th>\n",
       "      <th>F2</th>\n",
       "      <th>F3</th>\n",
       "      <th>cluster</th>\n",
       "    </tr>\n",
       "  </thead>\n",
       "  <tbody>\n",
       "    <tr>\n",
       "      <th>0</th>\n",
       "      <td>Arménie</td>\n",
       "      <td>-1.943347</td>\n",
       "      <td>3838.180041</td>\n",
       "      <td>2924.0</td>\n",
       "      <td>90.06</td>\n",
       "      <td>0.480235</td>\n",
       "      <td>5</td>\n",
       "      <td>0.511589</td>\n",
       "      <td>-1.086613</td>\n",
       "      <td>-0.382163</td>\n",
       "      <td>Pauvres et mal nourris</td>\n",
       "    </tr>\n",
       "    <tr>\n",
       "      <th>1</th>\n",
       "      <td>Afghanistan</td>\n",
       "      <td>32.168195</td>\n",
       "      <td>608.058642</td>\n",
       "      <td>2087.0</td>\n",
       "      <td>58.26</td>\n",
       "      <td>0.209749</td>\n",
       "      <td>1</td>\n",
       "      <td>-2.648007</td>\n",
       "      <td>0.435521</td>\n",
       "      <td>0.378822</td>\n",
       "      <td>Très Pauvres et très mal nourris</td>\n",
       "    </tr>\n",
       "    <tr>\n",
       "      <th>2</th>\n",
       "      <td>Albanie</td>\n",
       "      <td>-2.037666</td>\n",
       "      <td>4399.863881</td>\n",
       "      <td>3188.0</td>\n",
       "      <td>111.37</td>\n",
       "      <td>0.533537</td>\n",
       "      <td>4</td>\n",
       "      <td>1.562424</td>\n",
       "      <td>-0.928378</td>\n",
       "      <td>-0.979067</td>\n",
       "      <td>Riches et bien nourris</td>\n",
       "    </tr>\n",
       "    <tr>\n",
       "      <th>3</th>\n",
       "      <td>Algérie</td>\n",
       "      <td>18.801321</td>\n",
       "      <td>5499.587619</td>\n",
       "      <td>3293.0</td>\n",
       "      <td>91.92</td>\n",
       "      <td>0.271867</td>\n",
       "      <td>5</td>\n",
       "      <td>0.111197</td>\n",
       "      <td>0.273961</td>\n",
       "      <td>-1.481151</td>\n",
       "      <td>Pauvres et mal nourris</td>\n",
       "    </tr>\n",
       "    <tr>\n",
       "      <th>4</th>\n",
       "      <td>Angola</td>\n",
       "      <td>39.238700</td>\n",
       "      <td>5254.883253</td>\n",
       "      <td>2474.0</td>\n",
       "      <td>57.27</td>\n",
       "      <td>0.321285</td>\n",
       "      <td>1</td>\n",
       "      <td>-1.883234</td>\n",
       "      <td>0.894616</td>\n",
       "      <td>0.308438</td>\n",
       "      <td>Très Pauvres et très mal nourris</td>\n",
       "    </tr>\n",
       "  </tbody>\n",
       "</table>\n",
       "</div>"
      ],
      "text/plain": [
       "       Country  pop_evol (%)     PIB 2013  kcal_total_capita_day  \\\n",
       "0      Arménie     -1.943347  3838.180041                 2924.0   \n",
       "1  Afghanistan     32.168195   608.058642                 2087.0   \n",
       "2      Albanie     -2.037666  4399.863881                 3188.0   \n",
       "3      Algérie     18.801321  5499.587619                 3293.0   \n",
       "4       Angola     39.238700  5254.883253                 2474.0   \n",
       "\n",
       "   proteins_total_capita_day  proteins_animal_ratio  clusters        F1  \\\n",
       "0                      90.06               0.480235         5  0.511589   \n",
       "1                      58.26               0.209749         1 -2.648007   \n",
       "2                     111.37               0.533537         4  1.562424   \n",
       "3                      91.92               0.271867         5  0.111197   \n",
       "4                      57.27               0.321285         1 -1.883234   \n",
       "\n",
       "         F2        F3                           cluster  \n",
       "0 -1.086613 -0.382163            Pauvres et mal nourris  \n",
       "1  0.435521  0.378822  Très Pauvres et très mal nourris  \n",
       "2 -0.928378 -0.979067            Riches et bien nourris  \n",
       "3  0.273961 -1.481151            Pauvres et mal nourris  \n",
       "4  0.894616  0.308438  Très Pauvres et très mal nourris  "
      ]
     },
     "execution_count": 2,
     "metadata": {},
     "output_type": "execute_result"
    }
   ],
   "source": [
    "# Dataframe import\n",
    "with open('Data/part2.pkl', 'rb') as f:\n",
    "    my_unpickler = pickle.Unpickler(f)\n",
    "    main_df = my_unpickler.load()\n",
    "\n",
    "main_df.head()"
   ]
  },
  {
   "cell_type": "markdown",
   "metadata": {
    "id": "B0tKqGj68c0X"
   },
   "source": [
    "Commençons par regarder la distribution de chacune de nos variables"
   ]
  },
  {
   "cell_type": "code",
   "execution_count": 3,
   "metadata": {
    "colab": {
     "base_uri": "https://localhost:8080/",
     "height": 1000
    },
    "executionInfo": {
     "elapsed": 1700,
     "status": "ok",
     "timestamp": 1644514852332,
     "user": {
      "displayName": "Kevin Simon",
      "photoUrl": "https://lh3.googleusercontent.com/a-/AOh14Gg3FCABvilRbklDg4_wqSKqwlKXtHBhg3_Xddf997I=s64",
      "userId": "05485721485209418304"
     },
     "user_tz": -60
    },
    "id": "-DSa2PVv8mJG",
    "outputId": "b862c1f9-0fb8-4c2d-c379-3b360a1626df"
   },
   "outputs": [
    {
     "data": {
      "image/png": "[encoded data removed]",
      "text/plain": [
       "<Figure size 432x288 with 1 Axes>"
      ]
     },
     "metadata": {
      "needs_background": "light"
     },
     "output_type": "display_data"
    },
    {
     "data": {
      "image/png": "[encoded data removed]",
      "text/plain": [
       "<Figure size 432x288 with 1 Axes>"
      ]
     },
     "metadata": {
      "needs_background": "light"
     },
     "output_type": "display_data"
    },
    {
     "data": {
      "image/png": "[encoded data removed]",
      "text/plain": [
       "<Figure size 432x288 with 1 Axes>"
      ]
     },
     "metadata": {
      "needs_background": "light"
     },
     "output_type": "display_data"
    },
    {
     "data": {
      "image/png": "[encoded data removed]",
      "text/plain": [
       "<Figure size 432x288 with 1 Axes>"
      ]
     },
     "metadata": {
      "needs_background": "light"
     },
     "output_type": "display_data"
    },
    {
     "data": {
      "image/png": "[encoded data removed]",
      "text/plain": [
       "<Figure size 432x288 with 1 Axes>"
      ]
     },
     "metadata": {
      "needs_background": "light"
     },
     "output_type": "display_data"
    },
    {
     "data": {
      "image/png": "[encoded data removed]",
      "text/plain": [
       "<Figure size 432x288 with 1 Axes>"
      ]
     },
     "metadata": {
      "needs_background": "light"
     },
     "output_type": "display_data"
    },
    {
     "data": {
      "image/png": "[encoded data removed]",
      "text/plain": [
       "<Figure size 432x288 with 1 Axes>"
      ]
     },
     "metadata": {
      "needs_background": "light"
     },
     "output_type": "display_data"
    },
    {
     "data": {
      "image/png": "[encoded data removed]",
      "text/plain": [
       "<Figure size 432x288 with 1 Axes>"
      ]
     },
     "metadata": {
      "needs_background": "light"
     },
     "output_type": "display_data"
    }
   ],
   "source": [
    "df_distrib = main_df.drop(['Country','clusters','cluster'],1,inplace=False)\n",
    "for column in df_distrib.columns:\n",
    "    plt.hist(df_distrib[column])\n",
    "    plt.title(column)\n",
    "    plt.show()"
   ]
  },
  {
   "cell_type": "markdown",
   "metadata": {
    "id": "MTVJUcY46UjF"
   },
   "source": [
    "# Recherche d'une variable gaussienne avec le test de Shapiro-Wilk\n",
    "Nous partons de l'hypothèse nulle H0 que nos variables sont gaussiennes. Notre hypothèse alternative étant que la variable n'est pas gaussienne.\n",
    "\n",
    "Nous fixons notre seuil de risque à 1%, afin de ne pas rejeter trop facilement les variables candidates."
   ]
  },
  {
   "cell_type": "code",
   "execution_count": 4,
   "metadata": {
    "colab": {
     "base_uri": "https://localhost:8080/"
    },
    "executionInfo": {
     "elapsed": 566,
     "status": "ok",
     "timestamp": 1644515004832,
     "user": {
      "displayName": "Kevin Simon",
      "photoUrl": "https://lh3.googleusercontent.com/a-/AOh14Gg3FCABvilRbklDg4_wqSKqwlKXtHBhg3_Xddf997I=s64",
      "userId": "05485721485209418304"
     },
     "user_tz": -60
    },
    "id": "h_RYSe_K7Flq",
    "outputId": "619b60ee-5a41-4c3b-d1ee-b20ef982257f"
   },
   "outputs": [
    {
     "name": "stdout",
     "output_type": "stream",
     "text": [
      "pop_evol (%): Stats = 0.709, p = 0.000\n",
      "L'échantillon n'a pas été tiré d'une distribution gaussienne (reject H0)\n",
      " \n",
      "PIB 2013: Stats = 0.685, p = 0.000\n",
      "L'échantillon n'a pas été tiré d'une distribution gaussienne (reject H0)\n",
      " \n",
      "kcal_total_capita_day: Stats = 0.984, p = 0.041\n",
      "L'échantillon a été tiré d'une distribution gaussienne (fail to reject H0)\n",
      " \n",
      "proteins_total_capita_day: Stats = 0.983, p = 0.028\n",
      "L'échantillon a été tiré d'une distribution gaussienne (fail to reject H0)\n",
      " \n",
      "proteins_animal_ratio: Stats = 0.960, p = 0.000\n",
      "L'échantillon n'a pas été tiré d'une distribution gaussienne (reject H0)\n",
      " \n",
      "F1: Stats = 0.975, p = 0.003\n",
      "L'échantillon n'a pas été tiré d'une distribution gaussienne (reject H0)\n",
      " \n",
      "F2: Stats = 0.678, p = 0.000\n",
      "L'échantillon n'a pas été tiré d'une distribution gaussienne (reject H0)\n",
      " \n",
      "F3: Stats = 0.971, p = 0.001\n",
      "L'échantillon n'a pas été tiré d'une distribution gaussienne (reject H0)\n",
      " \n"
     ]
    }
   ],
   "source": [
    "alpha = 0.01\n",
    "for var in df_distrib.columns:\n",
    "  stat, p = st.shapiro(df_distrib[var])\n",
    "  print(var+': Stats = %.3f, p = %.3f' % (stat, p))\n",
    "\n",
    "  if p > alpha:\n",
    "    print(f\"L'échantillon a été tiré d'une distribution gaussienne (fail to reject H0)\")\n",
    "    print(f\" \")\n",
    "  else:\n",
    "    print(f\"L'échantillon n'a pas été tiré d'une distribution gaussienne (reject H0)\")\n",
    "    print(f\" \")"
   ]
  },
  {
   "cell_type": "markdown",
   "metadata": {
    "id": "kMeGZknQCcpv"
   },
   "source": [
    "Il existe deux variables pour lesquelles nous ne rejettons pas l'hypothèse nulle au seuil de 1% : 'kcal_total_capita_day\" et \"proteins_total_capita_day\".\n",
    "\n",
    "Pour la suite des tests nous ne considérons que la variable \"proteins_total_capita_day\"."
   ]
  },
  {
   "cell_type": "markdown",
   "metadata": {
    "id": "V9_hN0AODAzi"
   },
   "source": [
    "# Observons la distribution des données"
   ]
  },
  {
   "cell_type": "code",
   "execution_count": 5,
   "metadata": {
    "colab": {
     "base_uri": "https://localhost:8080/",
     "height": 279
    },
    "executionInfo": {
     "elapsed": 201,
     "status": "ok",
     "timestamp": 1644514852355,
     "user": {
      "displayName": "Kevin Simon",
      "photoUrl": "https://lh3.googleusercontent.com/a-/AOh14Gg3FCABvilRbklDg4_wqSKqwlKXtHBhg3_Xddf997I=s64",
      "userId": "05485721485209418304"
     },
     "user_tz": -60
    },
    "id": "ZrclKDAmAH7e",
    "outputId": "66a5d7aa-c97e-4c3a-dba4-d5fc2504a229"
   },
   "outputs": [
    {
     "data": {
      "image/png": "[encoded data removed]",
      "text/plain": [
       "<Figure size 432x288 with 1 Axes>"
      ]
     },
     "metadata": {
      "needs_background": "light"
     },
     "output_type": "display_data"
    }
   ],
   "source": [
    "anova = pd.DataFrame({'clusters': main_df['cluster'] ,\n",
    "                   'proteins': main_df['proteins_total_capita_day']})\n",
    "\n",
    "ax = sns.boxplot(x='proteins', y='clusters', data=anova, palette=\"Set2\")\n",
    "plt.show()\n"
   ]
  },
  {
   "cell_type": "markdown",
   "metadata": {
    "id": "hiECNOnJHnvN"
   },
   "source": [
    "Testons les 2 clusters qui semblent le plus proches graphiquement: \"Riches et bien nourris\" et \"Pauvres et mal nourris\""
   ]
  },
  {
   "cell_type": "code",
   "execution_count": 6,
   "metadata": {
    "executionInfo": {
     "elapsed": 323,
     "status": "ok",
     "timestamp": 1644514852479,
     "user": {
      "displayName": "Kevin Simon",
      "photoUrl": "https://lh3.googleusercontent.com/a-/AOh14Gg3FCABvilRbklDg4_wqSKqwlKXtHBhg3_Xddf997I=s64",
      "userId": "05485721485209418304"
     },
     "user_tz": -60
    },
    "id": "9l79A8fWH6nv"
   },
   "outputs": [],
   "source": [
    "proteins_cluster1 = main_df[main_df['cluster'] == \"Riches et bien nourris\"]['proteins_total_capita_day']\n",
    "proteins_cluster2 = main_df[main_df['cluster'] == \"Pauvres et mal nourris\"]['proteins_total_capita_day']"
   ]
  },
  {
   "cell_type": "markdown",
   "metadata": {
    "id": "4KVn3MKNPh4Y"
   },
   "source": [
    "# Test Bartlett - Test d'égalité des variances\n",
    "Vérifions si les variances sont similaires.  \n",
    "- Hypothèse nulle : Les variances sont similaires.  \n",
    "- Hypothèse alternative : Les variances sont différentes.  \n",
    "\n",
    "On rejettera H0 à un seuil de 5% (alpha = 0.05)"
   ]
  },
  {
   "cell_type": "code",
   "execution_count": 7,
   "metadata": {
    "colab": {
     "base_uri": "https://localhost:8080/",
     "height": 282
    },
    "executionInfo": {
     "elapsed": 130,
     "status": "ok",
     "timestamp": 1644514853320,
     "user": {
      "displayName": "Kevin Simon",
      "photoUrl": "https://lh3.googleusercontent.com/a-/AOh14Gg3FCABvilRbklDg4_wqSKqwlKXtHBhg3_Xddf997I=s64",
      "userId": "05485721485209418304"
     },
     "user_tz": -60
    },
    "id": "FVyde-PZNYs6",
    "outputId": "4ce86dd0-6379-4b8d-9c25-5d56a7d098f7"
   },
   "outputs": [
    {
     "name": "stdout",
     "output_type": "stream",
     "text": [
      "stat = 0.034, p-value = 0.853\n",
      "L'hypothèse nulle n'est pas rejetée - Les variances sont probablement similaires\n"
     ]
    }
   ],
   "source": [
    "stat, p = st.bartlett(proteins_cluster1, proteins_cluster2)\n",
    "print('stat = %.3f, p-value = %.3f' % (stat, p))\n",
    "if p > 0.05:\n",
    "\tprint('L\\'hypothèse nulle n\\'est pas rejetée - Les variances sont probablement similaires')\n",
    "else:\n",
    "\tprint('L\\'hypothèse nulle est rejetée - Les variances sont probablement différentes')"
   ]
  },
  {
   "cell_type": "markdown",
   "metadata": {
    "id": "YYcKWXgsWSeB"
   },
   "source": [
    "L'hypothèse nulle ne peut être rejetée, on considère donc maintenant le test d'adéquation des moyennes"
   ]
  },
  {
   "cell_type": "markdown",
   "metadata": {},
   "source": [
    "# Test Student - Test d'égalité des moyennes\n",
    "Vérifions si les variances sont similaires.  \n",
    "- Hypothèse nulle : Les moyennes sont similaires.  \n",
    "- Hypothèse alternative : Les moyennes sont différentes.  \n",
    "\n",
    "On rejettera H0 à un seuil de 5% (alpha = 0.05)"
   ]
  },
  {
   "cell_type": "code",
   "execution_count": 8,
   "metadata": {},
   "outputs": [
    {
     "name": "stdout",
     "output_type": "stream",
     "text": [
      "stat = 7.704, p-value = 0.000\n",
      "L'hypothèse nulle est rejetée - Les moyennes sont probablement différentes\n"
     ]
    }
   ],
   "source": [
    "stat, p = st.ttest_ind(proteins_cluster1, proteins_cluster2)\n",
    "print('stat = %.3f, p-value = %.3f' % (stat, p))\n",
    "if p > 0.05:\n",
    "\tprint('L\\'hypothèse nulle n\\'est pas rejetée - Les moyennes sont probablement similaires')\n",
    "else:\n",
    "\tprint('L\\'hypothèse nulle est rejetée - Les moyennes sont probablement différentes')"
   ]
  },
  {
   "cell_type": "markdown",
   "metadata": {
    "id": "47-U4X2CWlty"
   },
   "source": [
    "# Interprétation\n",
    "On peut largement rejeter l'hypothèse nulle au seuil de 5%.\n",
    "\n",
    "Sur nos deux clusters qui semblent les plus proches, on peut rejetter l'hypothèse nulle d'une moyenne similaire. Ceci confirme la qualité de nos groupes."
   ]
  }
 ],
 "metadata": {
  "colab": {
   "authorship_tag": "ABX9TyMgTnRsab+9dx2p/NMkX59S",
   "collapsed_sections": [],
   "name": "Tests_statistiques.ipynb",
   "provenance": []
  },
  "kernelspec": {
   "display_name": "Python 3",
   "language": "python",
   "name": "python3"
  },
  "language_info": {
   "codemirror_mode": {
    "name": "ipython",
    "version": 3
   },
   "file_extension": ".py",
   "mimetype": "text/x-python",
   "name": "python",
   "nbconvert_exporter": "python",
   "pygments_lexer": "ipython3",
   "version": "3.8.8"
  }
 },
 "nbformat": 4,
 "nbformat_minor": 1
}
