{
 "cells": [
  {
   "cell_type": "markdown",
   "metadata": {},
   "source": [
    "# PART 5 - Programme d'identification de faux billets"
   ]
  },
  {
   "cell_type": "markdown",
   "metadata": {},
   "source": [
    "# Fichier à tester"
   ]
  },
  {
   "cell_type": "code",
   "execution_count": 29,
   "metadata": {},
   "outputs": [],
   "source": [
    "csv = 'Sources/example.csv'"
   ]
  },
  {
   "cell_type": "markdown",
   "metadata": {},
   "source": [
    "# Écriture du programme"
   ]
  },
  {
   "cell_type": "code",
   "execution_count": 32,
   "metadata": {},
   "outputs": [],
   "source": [
    "import pandas as pd\n",
    "import pickle\n",
    "\n",
    "pd.set_option('mode.chained_assignment', None)\n",
    "\n",
    "def detecteur_billet(csv):\n",
    "    \"\"\" Détecte si un billet est vrai ou non. Retourne un dataframe\n",
    "    Args:\n",
    "        csv (CSV file): Fichier CSV avec un billet par ligne.\n",
    "    \"\"\"\n",
    "    \n",
    "    # Lecture du fichier CSV\n",
    "    df = pd.read_csv(csv)\n",
    "    data = df.iloc[:,:-1].copy()\n",
    "    \n",
    "    # Récupération du modèle\n",
    "    with open('data/model.pkl', 'rb') as f:\n",
    "        my_unpickler = pickle.Unpickler(f)\n",
    "        model = my_unpickler.load()\n",
    "        \n",
    "    # Préparation des données\n",
    "    data = data[['length', 'margin_low']]\n",
    "    \n",
    "    # Modélisation et enregistrement des résultats ligne par ligne\n",
    "    df['is_genuine'] = 2\n",
    "    df['Proba'] = 0\n",
    "    for i in range(0,5):\n",
    "        results = model.predict([[data['length'][i],data['margin_low'][i]]])\n",
    "        probabs = model.predict_proba([data.iloc[i]])\n",
    "        df['is_genuine'].iloc[i] = results\n",
    "        df['Proba'].iloc[i] = probabs[:,-1]\n",
    "\n",
    "    df['Prédiction'] = df['is_genuine'].apply(lambda x: 'Vrai billet' if x == 1 else 'Faux billet')\n",
    "    df['Probalité d\\'être vrai'] = round(df['Proba'],3)\n",
    "    \n",
    "    # Renvoi l'identifiant du billet et le résultat lisible\n",
    "    return df[['id', 'Prédiction','Probalité d\\'être vrai']]"
   ]
  },
  {
   "cell_type": "markdown",
   "metadata": {},
   "source": [
    "# Lancement du programme"
   ]
  },
  {
   "cell_type": "code",
   "execution_count": 33,
   "metadata": {},
   "outputs": [
    {
     "data": {
      "text/html": [
       "<div>\n",
       "<style scoped>\n",
       "    .dataframe tbody tr th:only-of-type {\n",
       "        vertical-align: middle;\n",
       "    }\n",
       "\n",
       "    .dataframe tbody tr th {\n",
       "        vertical-align: top;\n",
       "    }\n",
       "\n",
       "    .dataframe thead th {\n",
       "        text-align: right;\n",
       "    }\n",
       "</style>\n",
       "<table border=\"1\" class=\"dataframe\">\n",
       "  <thead>\n",
       "    <tr style=\"text-align: right;\">\n",
       "      <th></th>\n",
       "      <th>id</th>\n",
       "      <th>Prédiction</th>\n",
       "      <th>Probalité d'être vrai</th>\n",
       "    </tr>\n",
       "  </thead>\n",
       "  <tbody>\n",
       "    <tr>\n",
       "      <th>0</th>\n",
       "      <td>A_1</td>\n",
       "      <td>Faux billet</td>\n",
       "      <td>0.013</td>\n",
       "    </tr>\n",
       "    <tr>\n",
       "      <th>1</th>\n",
       "      <td>A_2</td>\n",
       "      <td>Faux billet</td>\n",
       "      <td>0.011</td>\n",
       "    </tr>\n",
       "    <tr>\n",
       "      <th>2</th>\n",
       "      <td>A_3</td>\n",
       "      <td>Faux billet</td>\n",
       "      <td>0.034</td>\n",
       "    </tr>\n",
       "    <tr>\n",
       "      <th>3</th>\n",
       "      <td>A_4</td>\n",
       "      <td>Vrai billet</td>\n",
       "      <td>0.943</td>\n",
       "    </tr>\n",
       "    <tr>\n",
       "      <th>4</th>\n",
       "      <td>A_5</td>\n",
       "      <td>Vrai billet</td>\n",
       "      <td>0.993</td>\n",
       "    </tr>\n",
       "  </tbody>\n",
       "</table>\n",
       "</div>"
      ],
      "text/plain": [
       "    id   Prédiction  Probalité d'être vrai\n",
       "0  A_1  Faux billet                  0.013\n",
       "1  A_2  Faux billet                  0.011\n",
       "2  A_3  Faux billet                  0.034\n",
       "3  A_4  Vrai billet                  0.943\n",
       "4  A_5  Vrai billet                  0.993"
      ]
     },
     "execution_count": 33,
     "metadata": {},
     "output_type": "execute_result"
    }
   ],
   "source": [
    "detecteur_billet(csv)"
   ]
  },
  {
   "cell_type": "code",
   "execution_count": null,
   "metadata": {},
   "outputs": [],
   "source": []
  }
 ],
 "metadata": {
  "interpreter": {
   "hash": "d5ecb1748f467b5d4777d690805f96544439de96e9f967607df4f074097c46db"
  },
  "kernelspec": {
   "display_name": "Python 3.8.8 ('base')",
   "language": "python",
   "name": "python3"
  },
  "language_info": {
   "codemirror_mode": {
    "name": "ipython",
    "version": 3
   },
   "file_extension": ".py",
   "mimetype": "text/x-python",
   "name": "python",
   "nbconvert_exporter": "python",
   "pygments_lexer": "ipython3",
   "version": "3.8.8"
  },
  "orig_nbformat": 4
 },
 "nbformat": 4,
 "nbformat_minor": 2
}
