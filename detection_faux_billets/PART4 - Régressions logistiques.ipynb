{
 "cells": [
  {
   "cell_type": "markdown",
   "metadata": {},
   "source": [
    "# PART 4 - Régréssions logistiques"
   ]
  },
  {
   "cell_type": "code",
   "execution_count": 1,
   "metadata": {},
   "outputs": [],
   "source": [
    "import pandas as pd\n",
    "import matplotlib.pyplot as plt\n",
    "import statsmodels.formula.api as smf\n",
    "import statsmodels.api as sm\n",
    "import pickle\n",
    "\n",
    "from sklearn.linear_model import LogisticRegression\n",
    "from sklearn.model_selection import train_test_split\n",
    "from sklearn.model_selection import cross_val_score\n",
    "\n",
    "# Classe executant une validation croisée en 5 itérations\n",
    "def myscore(clf, X, y):\n",
    "    xval = cross_val_score(clf, X, y, cv = 5)\n",
    "    return xval.mean() *100\n",
    "\n",
    "# Classe préparant le modèle\n",
    "def Prepare_model(X):\n",
    "    target = X.is_genuine\n",
    "    X = X[['length', 'margin_low']]\n",
    "    return X, target\n",
    "\n",
    "# Classe permettant de visualiser le distribution des faux et vrais billets en fonction d'une variable\n",
    "def plt_feature(feature, bins = 30):\n",
    "    m = df[df.is_genuine == True][feature].dropna()\n",
    "    s = df[df.is_genuine == False][feature].dropna()\n",
    "    plt.hist([m, s], label=['True', 'False'], bins = bins)\n",
    "    plt.legend(loc = 'upper left')\n",
    "    plt.xlabel(feature)\n",
    "    plt.title('Distribution relative en fonction de %s' %feature)\n",
    "    plt.show()   "
   ]
  },
  {
   "cell_type": "markdown",
   "metadata": {},
   "source": [
    "# Import du dataset"
   ]
  },
  {
   "cell_type": "code",
   "execution_count": 2,
   "metadata": {},
   "outputs": [
    {
     "data": {
      "text/html": [
       "<div>\n",
       "<style scoped>\n",
       "    .dataframe tbody tr th:only-of-type {\n",
       "        vertical-align: middle;\n",
       "    }\n",
       "\n",
       "    .dataframe tbody tr th {\n",
       "        vertical-align: top;\n",
       "    }\n",
       "\n",
       "    .dataframe thead th {\n",
       "        text-align: right;\n",
       "    }\n",
       "</style>\n",
       "<table border=\"1\" class=\"dataframe\">\n",
       "  <thead>\n",
       "    <tr style=\"text-align: right;\">\n",
       "      <th></th>\n",
       "      <th>length</th>\n",
       "      <th>margin_up</th>\n",
       "      <th>margin_low</th>\n",
       "      <th>height_left</th>\n",
       "      <th>height_right</th>\n",
       "      <th>diagonal</th>\n",
       "      <th>is_genuine</th>\n",
       "      <th>F1</th>\n",
       "      <th>F2</th>\n",
       "      <th>km cluster</th>\n",
       "    </tr>\n",
       "  </thead>\n",
       "  <tbody>\n",
       "    <tr>\n",
       "      <th>0</th>\n",
       "      <td>112.83</td>\n",
       "      <td>2.89</td>\n",
       "      <td>4.52</td>\n",
       "      <td>104.86</td>\n",
       "      <td>104.95</td>\n",
       "      <td>171.81</td>\n",
       "      <td>True</td>\n",
       "      <td>2.153639</td>\n",
       "      <td>1.599709</td>\n",
       "      <td>0</td>\n",
       "    </tr>\n",
       "    <tr>\n",
       "      <th>1</th>\n",
       "      <td>113.29</td>\n",
       "      <td>2.87</td>\n",
       "      <td>4.01</td>\n",
       "      <td>103.74</td>\n",
       "      <td>103.70</td>\n",
       "      <td>171.67</td>\n",
       "      <td>True</td>\n",
       "      <td>-2.110416</td>\n",
       "      <td>-0.526039</td>\n",
       "      <td>0</td>\n",
       "    </tr>\n",
       "    <tr>\n",
       "      <th>2</th>\n",
       "      <td>113.84</td>\n",
       "      <td>2.88</td>\n",
       "      <td>4.40</td>\n",
       "      <td>103.76</td>\n",
       "      <td>103.76</td>\n",
       "      <td>171.83</td>\n",
       "      <td>True</td>\n",
       "      <td>-1.973152</td>\n",
       "      <td>-0.048102</td>\n",
       "      <td>0</td>\n",
       "    </tr>\n",
       "    <tr>\n",
       "      <th>3</th>\n",
       "      <td>113.63</td>\n",
       "      <td>3.12</td>\n",
       "      <td>3.73</td>\n",
       "      <td>103.78</td>\n",
       "      <td>103.65</td>\n",
       "      <td>171.80</td>\n",
       "      <td>True</td>\n",
       "      <td>-2.059795</td>\n",
       "      <td>-0.089105</td>\n",
       "      <td>0</td>\n",
       "    </tr>\n",
       "    <tr>\n",
       "      <th>4</th>\n",
       "      <td>113.55</td>\n",
       "      <td>2.27</td>\n",
       "      <td>5.04</td>\n",
       "      <td>103.70</td>\n",
       "      <td>103.75</td>\n",
       "      <td>172.05</td>\n",
       "      <td>True</td>\n",
       "      <td>-2.403180</td>\n",
       "      <td>0.412170</td>\n",
       "      <td>0</td>\n",
       "    </tr>\n",
       "    <tr>\n",
       "      <th>5</th>\n",
       "      <td>113.16</td>\n",
       "      <td>2.99</td>\n",
       "      <td>4.54</td>\n",
       "      <td>104.65</td>\n",
       "      <td>104.44</td>\n",
       "      <td>172.57</td>\n",
       "      <td>True</td>\n",
       "      <td>1.235656</td>\n",
       "      <td>2.983191</td>\n",
       "      <td>0</td>\n",
       "    </tr>\n",
       "    <tr>\n",
       "      <th>6</th>\n",
       "      <td>113.30</td>\n",
       "      <td>2.90</td>\n",
       "      <td>3.97</td>\n",
       "      <td>103.55</td>\n",
       "      <td>103.80</td>\n",
       "      <td>172.38</td>\n",
       "      <td>True</td>\n",
       "      <td>-2.079412</td>\n",
       "      <td>1.147980</td>\n",
       "      <td>0</td>\n",
       "    </tr>\n",
       "    <tr>\n",
       "      <th>7</th>\n",
       "      <td>113.38</td>\n",
       "      <td>3.19</td>\n",
       "      <td>3.54</td>\n",
       "      <td>103.65</td>\n",
       "      <td>103.37</td>\n",
       "      <td>171.58</td>\n",
       "      <td>True</td>\n",
       "      <td>-2.623934</td>\n",
       "      <td>-1.040133</td>\n",
       "      <td>0</td>\n",
       "    </tr>\n",
       "    <tr>\n",
       "      <th>8</th>\n",
       "      <td>113.53</td>\n",
       "      <td>3.33</td>\n",
       "      <td>4.06</td>\n",
       "      <td>103.51</td>\n",
       "      <td>103.75</td>\n",
       "      <td>171.96</td>\n",
       "      <td>True</td>\n",
       "      <td>-1.736309</td>\n",
       "      <td>-0.227631</td>\n",
       "      <td>0</td>\n",
       "    </tr>\n",
       "    <tr>\n",
       "      <th>9</th>\n",
       "      <td>112.47</td>\n",
       "      <td>3.02</td>\n",
       "      <td>4.63</td>\n",
       "      <td>104.34</td>\n",
       "      <td>104.20</td>\n",
       "      <td>172.14</td>\n",
       "      <td>True</td>\n",
       "      <td>0.727490</td>\n",
       "      <td>1.063881</td>\n",
       "      <td>0</td>\n",
       "    </tr>\n",
       "  </tbody>\n",
       "</table>\n",
       "</div>"
      ],
      "text/plain": [
       "   length  margin_up  margin_low  height_left  height_right  diagonal  \\\n",
       "0  112.83       2.89        4.52       104.86        104.95    171.81   \n",
       "1  113.29       2.87        4.01       103.74        103.70    171.67   \n",
       "2  113.84       2.88        4.40       103.76        103.76    171.83   \n",
       "3  113.63       3.12        3.73       103.78        103.65    171.80   \n",
       "4  113.55       2.27        5.04       103.70        103.75    172.05   \n",
       "5  113.16       2.99        4.54       104.65        104.44    172.57   \n",
       "6  113.30       2.90        3.97       103.55        103.80    172.38   \n",
       "7  113.38       3.19        3.54       103.65        103.37    171.58   \n",
       "8  113.53       3.33        4.06       103.51        103.75    171.96   \n",
       "9  112.47       3.02        4.63       104.34        104.20    172.14   \n",
       "\n",
       "   is_genuine        F1        F2  km cluster  \n",
       "0        True  2.153639  1.599709           0  \n",
       "1        True -2.110416 -0.526039           0  \n",
       "2        True -1.973152 -0.048102           0  \n",
       "3        True -2.059795 -0.089105           0  \n",
       "4        True -2.403180  0.412170           0  \n",
       "5        True  1.235656  2.983191           0  \n",
       "6        True -2.079412  1.147980           0  \n",
       "7        True -2.623934 -1.040133           0  \n",
       "8        True -1.736309 -0.227631           0  \n",
       "9        True  0.727490  1.063881           0  "
      ]
     },
     "execution_count": 2,
     "metadata": {},
     "output_type": "execute_result"
    }
   ],
   "source": [
    "with open('data/part3.pkl', 'rb') as f:\n",
    "    my_unpickler = pickle.Unpickler(f)\n",
    "    df = my_unpickler.load()\n",
    "    \n",
    "df.head(10)"
   ]
  },
  {
   "cell_type": "markdown",
   "metadata": {},
   "source": [
    "# Séparation du dataset\n",
    "Séparons le datasat en 2 :\n",
    "- 80% pour l'entrainement du modèle qui aura été identifié et pour la validation croisée.\n",
    "- 20% pour la validation finale de ce modèle."
   ]
  },
  {
   "cell_type": "code",
   "execution_count": 3,
   "metadata": {},
   "outputs": [],
   "source": [
    "# Séparation X (features) et y (is_genuine)\n",
    "X = df.iloc[:,:-1]\n",
    "y = df.iloc[:,-1]\n",
    "\n",
    "# Séparation train data et test data avec la méthod sklearn : train_test_split\n",
    "X_train, X_test, y_train, y_test = train_test_split(X, y, test_size=0.2, random_state=99, stratify=y)\n",
    "\n",
    "# Reconstruction des datasets\n",
    "dataset_eval = pd.concat((X_train, y_train), axis=1).reset_index(drop=True)\n",
    "dataset_test = pd.concat((X_test, y_test), axis=1).reset_index(drop=True)"
   ]
  },
  {
   "cell_type": "markdown",
   "metadata": {},
   "source": [
    "# Régression logistique multiple #1\n",
    "Effectuons une régression logistique de 'is_genuine' en fonction de 'length', 'margin_low', 'height_left', 'height_right' et 'diagonal."
   ]
  },
  {
   "cell_type": "code",
   "execution_count": 4,
   "metadata": {},
   "outputs": [
    {
     "name": "stdout",
     "output_type": "stream",
     "text": [
      "                             Generalized Linear Model Regression Results                             \n",
      "=====================================================================================================\n",
      "Dep. Variable:     ['is_genuine[False]', 'is_genuine[True]']   No. Observations:                  170\n",
      "Model:                                                   GLM   Df Residuals:                      165\n",
      "Model Family:                                       Binomial   Df Model:                            4\n",
      "Link Function:                                         logit   Scale:                          1.0000\n",
      "Method:                                                 IRLS   Log-Likelihood:                -4.1694\n",
      "Date:                                       Fri, 18 Mar 2022   Deviance:                       8.3387\n",
      "Time:                                               20:47:21   Pearson chi2:                     8.79\n",
      "No. Iterations:                                           12                                         \n",
      "Covariance Type:                                   nonrobust                                         \n",
      "===============================================================================\n",
      "                  coef    std err          z      P>|z|      [0.025      0.975]\n",
      "-------------------------------------------------------------------------------\n",
      "Intercept    1484.9247   1434.867      1.035      0.301   -1327.363    4297.212\n",
      "length         -9.9880      4.920     -2.030      0.042     -19.632      -0.345\n",
      "margin_low     14.4336      6.932      2.082      0.037       0.847      28.021\n",
      "height_left     0.9500      5.615      0.169      0.866     -10.055      11.955\n",
      "diagonal       -3.0619      6.388     -0.479      0.632     -15.582       9.459\n",
      "===============================================================================\n"
     ]
    }
   ],
   "source": [
    "reg_log1 = smf.glm('is_genuine~length+margin_low+height_left+diagonal',\n",
    "                   data=df, family=sm.families.Binomial()).fit()\n",
    "print(reg_log1.summary())"
   ]
  },
  {
   "cell_type": "markdown",
   "metadata": {},
   "source": [
    "# Régression logistique multiple #2\n",
    "Nous excluons 'height_right'."
   ]
  },
  {
   "cell_type": "code",
   "execution_count": 5,
   "metadata": {},
   "outputs": [
    {
     "name": "stdout",
     "output_type": "stream",
     "text": [
      "                             Generalized Linear Model Regression Results                             \n",
      "=====================================================================================================\n",
      "Dep. Variable:     ['is_genuine[False]', 'is_genuine[True]']   No. Observations:                  170\n",
      "Model:                                                   GLM   Df Residuals:                      165\n",
      "Model Family:                                       Binomial   Df Model:                            4\n",
      "Link Function:                                         logit   Scale:                          1.0000\n",
      "Method:                                                 IRLS   Log-Likelihood:                -4.1694\n",
      "Date:                                       Fri, 18 Mar 2022   Deviance:                       8.3387\n",
      "Time:                                               20:47:21   Pearson chi2:                     8.79\n",
      "No. Iterations:                                           12                                         \n",
      "Covariance Type:                                   nonrobust                                         \n",
      "===============================================================================\n",
      "                  coef    std err          z      P>|z|      [0.025      0.975]\n",
      "-------------------------------------------------------------------------------\n",
      "Intercept    1484.9247   1434.867      1.035      0.301   -1327.363    4297.212\n",
      "length         -9.9880      4.920     -2.030      0.042     -19.632      -0.345\n",
      "margin_low     14.4336      6.932      2.082      0.037       0.847      28.021\n",
      "height_left     0.9500      5.615      0.169      0.866     -10.055      11.955\n",
      "diagonal       -3.0619      6.388     -0.479      0.632     -15.582       9.459\n",
      "===============================================================================\n"
     ]
    }
   ],
   "source": [
    "reg_log2 = smf.glm('is_genuine~length+margin_low+height_left+diagonal',\n",
    "                   data=df, family=sm.families.Binomial()).fit()\n",
    "print(reg_log2.summary())"
   ]
  },
  {
   "cell_type": "markdown",
   "metadata": {},
   "source": [
    "# Régression logistique multiple #3\n",
    "Nous excluons 'height_left'."
   ]
  },
  {
   "cell_type": "code",
   "execution_count": 6,
   "metadata": {},
   "outputs": [
    {
     "name": "stdout",
     "output_type": "stream",
     "text": [
      "                             Generalized Linear Model Regression Results                             \n",
      "=====================================================================================================\n",
      "Dep. Variable:     ['is_genuine[False]', 'is_genuine[True]']   No. Observations:                  170\n",
      "Model:                                                   GLM   Df Residuals:                      166\n",
      "Model Family:                                       Binomial   Df Model:                            3\n",
      "Link Function:                                         logit   Scale:                          1.0000\n",
      "Method:                                                 IRLS   Log-Likelihood:                -4.1839\n",
      "Date:                                       Fri, 18 Mar 2022   Deviance:                       8.3677\n",
      "Time:                                               20:47:21   Pearson chi2:                     8.89\n",
      "No. Iterations:                                           11                                         \n",
      "Covariance Type:                                   nonrobust                                         \n",
      "==============================================================================\n",
      "                 coef    std err          z      P>|z|      [0.025      0.975]\n",
      "------------------------------------------------------------------------------\n",
      "Intercept   1524.2423   1395.594      1.092      0.275   -1211.071    4259.556\n",
      "length        -9.9383      4.724     -2.104      0.035     -19.197      -0.679\n",
      "margin_low    14.5934      6.842      2.133      0.033       1.183      28.003\n",
      "diagonal      -2.7513      5.946     -0.463      0.644     -14.405       8.903\n",
      "==============================================================================\n"
     ]
    }
   ],
   "source": [
    "reg_log3 = smf.glm('is_genuine~length+margin_low+diagonal',\n",
    "                   data=df, family=sm.families.Binomial()).fit()\n",
    "print(reg_log3.summary())"
   ]
  },
  {
   "cell_type": "markdown",
   "metadata": {},
   "source": [
    "# Régression logistique multiple #4\n",
    "Nous excluons 'diagonal'."
   ]
  },
  {
   "cell_type": "code",
   "execution_count": 7,
   "metadata": {},
   "outputs": [
    {
     "name": "stdout",
     "output_type": "stream",
     "text": [
      "                             Generalized Linear Model Regression Results                             \n",
      "=====================================================================================================\n",
      "Dep. Variable:     ['is_genuine[False]', 'is_genuine[True]']   No. Observations:                  170\n",
      "Model:                                                   GLM   Df Residuals:                      167\n",
      "Model Family:                                       Binomial   Df Model:                            2\n",
      "Link Function:                                         logit   Scale:                          1.0000\n",
      "Method:                                                 IRLS   Log-Likelihood:                -4.2932\n",
      "Date:                                       Fri, 18 Mar 2022   Deviance:                       8.5864\n",
      "Time:                                               20:47:21   Pearson chi2:                     10.1\n",
      "No. Iterations:                                           11                                         \n",
      "Covariance Type:                                   nonrobust                                         \n",
      "==============================================================================\n",
      "                 coef    std err          z      P>|z|      [0.025      0.975]\n",
      "------------------------------------------------------------------------------\n",
      "Intercept    944.4190    377.481      2.502      0.012     204.569    1684.269\n",
      "length        -8.9420      3.552     -2.518      0.012     -15.903      -1.981\n",
      "margin_low    13.3659      5.314      2.515      0.012       2.950      23.781\n",
      "==============================================================================\n"
     ]
    }
   ],
   "source": [
    "reg_log4 = smf.glm('is_genuine~length+margin_low',\n",
    "                   data=df, family=sm.families.Binomial()).fit()\n",
    "print(reg_log4.summary())"
   ]
  },
  {
   "cell_type": "markdown",
   "metadata": {},
   "source": [
    "Grâce à ces régressions logistiques nous avons déterminé que les variables 'length' et 'margin_low' sont les seules variables significativement valables pour identifier un faux billet d'un vrai.  \n",
    "Voyons quels liens entretiennent ces varaibles avec is_genuine."
   ]
  },
  {
   "cell_type": "code",
   "execution_count": 8,
   "metadata": {},
   "outputs": [
    {
     "data": {
      "image/png": "[encoded data removed]",
      "text/plain": [
       "<Figure size 432x288 with 1 Axes>"
      ]
     },
     "metadata": {
      "needs_background": "light"
     },
     "output_type": "display_data"
    },
    {
     "data": {
      "image/png": "[encoded data removed]",
      "text/plain": [
       "<Figure size 432x288 with 1 Axes>"
      ]
     },
     "metadata": {
      "needs_background": "light"
     },
     "output_type": "display_data"
    }
   ],
   "source": [
    "plt_feature('length')\n",
    "plt_feature('margin_low')"
   ]
  },
  {
   "cell_type": "markdown",
   "metadata": {},
   "source": [
    "# Création et évaluation du modèle\n",
    "Créons un modèle de régression linéaire basé sur 'length' et 'margin_low' puis évaluons-le."
   ]
  },
  {
   "cell_type": "code",
   "execution_count": 9,
   "metadata": {},
   "outputs": [
    {
     "name": "stdout",
     "output_type": "stream",
     "text": [
      "Le modèle trouvé nous donne 100.0% de bonnes prédictions sur les données d'évaluation.\n"
     ]
    }
   ],
   "source": [
    "# Nous évaluerons d'abord notre modèle avec le dataset_train\n",
    "X_eval, y_eval = Prepare_model(dataset_eval.copy())\n",
    "\n",
    "# Création du modèle\n",
    "model_lr = LogisticRegression()\n",
    "model_lr.fit(X_eval, y_eval)\n",
    "\n",
    "# Évaluation du modèle en validation croisée avec les données d'entrainement\n",
    "eval_score = myscore(model_lr, X_eval, y_eval)\n",
    "\n",
    "print(f\"Le modèle trouvé nous donne {round(eval_score,2)}% de bonnes prédictions sur les données d'évaluation.\")"
   ]
  },
  {
   "cell_type": "markdown",
   "metadata": {},
   "source": [
    "# Test du modèle\n",
    "Nous allons maintenant tester le modèle sur les 20% du datasat originel reservés pour cela."
   ]
  },
  {
   "cell_type": "code",
   "execution_count": 10,
   "metadata": {},
   "outputs": [
    {
     "name": "stdout",
     "output_type": "stream",
     "text": [
      "Le modèle trouvé nous donne 91.18% de bonnes prédictions sur les données de test.\n"
     ]
    }
   ],
   "source": [
    "# Séparation X (features) et y (is_genuine) du dataset de test\n",
    "X_test, y_test = Prepare_model(dataset_test.copy())\n",
    "\n",
    "# Test du modèle sur ces données test.\n",
    "test_score = model_lr.score(X_test, y_test)\n",
    "\n",
    "print(f\"Le modèle trouvé nous donne {round(test_score*100,2)}% de bonnes prédictions sur les données de test.\")"
   ]
  },
  {
   "cell_type": "markdown",
   "metadata": {},
   "source": [
    "# Validation du modèle\n",
    "Il convient maintenant de valider le modèle en l'entrainant sur l'ensemble du jeu de données originel"
   ]
  },
  {
   "cell_type": "code",
   "execution_count": 11,
   "metadata": {},
   "outputs": [
    {
     "name": "stdout",
     "output_type": "stream",
     "text": [
      "Le modèle trouvé nous donne 98.24% de bonnes prédictions sur l'ensemble des données'.\n"
     ]
    }
   ],
   "source": [
    "# Séparation X (features) et y (is_genuine) du dataset initial\n",
    "X, y = Prepare_model(df.copy())\n",
    "\n",
    "# Validation du modèle sur le jeu de donnée initial\n",
    "valid_score = model_lr.score(X,y)\n",
    "\n",
    "print(f\"Le modèle trouvé nous donne {round(valid_score*100,2)}% de bonnes prédictions sur l'ensemble des données'.\")"
   ]
  },
  {
   "cell_type": "markdown",
   "metadata": {},
   "source": [
    "# Sauvegarde du model"
   ]
  },
  {
   "cell_type": "code",
   "execution_count": 12,
   "metadata": {},
   "outputs": [],
   "source": [
    "with open('data/model.pkl', 'wb') as f:\n",
    "    my_pickler = pickle.Pickler(f)\n",
    "    my_pickler.dump(model_lr)"
   ]
  }
 ],
 "metadata": {
  "interpreter": {
   "hash": "d5ecb1748f467b5d4777d690805f96544439de96e9f967607df4f074097c46db"
  },
  "kernelspec": {
   "display_name": "Python 3.8.8 ('base')",
   "language": "python",
   "name": "python3"
  },
  "language_info": {
   "codemirror_mode": {
    "name": "ipython",
    "version": 3
   },
   "file_extension": ".py",
   "mimetype": "text/x-python",
   "name": "python",
   "nbconvert_exporter": "python",
   "pygments_lexer": "ipython3",
   "version": "3.8.8"
  },
  "orig_nbformat": 4
 },
 "nbformat": 4,
 "nbformat_minor": 2
}
